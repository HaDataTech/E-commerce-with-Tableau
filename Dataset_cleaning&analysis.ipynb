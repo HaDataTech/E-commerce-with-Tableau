{
 "cells": [
  {
   "cell_type": "markdown",
   "id": "5a46edd8",
   "metadata": {},
   "source": [
    "# <font color = blue> OList Retail Dataset - Capstone Project</font>\n"
   ]
  },
  {
   "cell_type": "markdown",
   "id": "5e2efd87",
   "metadata": {},
   "source": [
    "### <font color = blue> Importing the libraries and warnings</font>"
   ]
  },
  {
   "cell_type": "code",
   "execution_count": 1,
   "id": "f7df0c0f",
   "metadata": {},
   "outputs": [],
   "source": [
    "# Importing all the necessary libraries\n",
    "\n",
    "import numpy as np, pandas as pd\n",
    "import matplotlib.pyplot as plt, seaborn as sns\n",
    "%matplotlib inline"
   ]
  },
  {
   "cell_type": "code",
   "execution_count": 2,
   "id": "d55dbc97",
   "metadata": {},
   "outputs": [],
   "source": [
    "#import warnings\n",
    "\n",
    "import warnings\n",
    "warnings.filterwarnings(\"ignore\")  # To suppress all the warnings in the notebook"
   ]
  },
  {
   "cell_type": "markdown",
   "id": "09525ae0",
   "metadata": {},
   "source": [
    "### <font color = blue>Read in the Retail Dataset excel</font>"
   ]
  },
  {
   "cell_type": "markdown",
   "id": "6b3ffb35",
   "metadata": {},
   "source": [
    "#### 1. Orders "
   ]
  },
  {
   "cell_type": "code",
   "execution_count": 3,
   "id": "8f39d7fa",
   "metadata": {},
   "outputs": [],
   "source": [
    "# Reading the Orders sheet\n",
    "\n",
    "orders = pd.read_excel(\"Downloads\\\\Retail_dataset.xlsx\", sheet_name=\"orders\")"
   ]
  },
  {
   "cell_type": "code",
   "execution_count": 4,
   "id": "61e993f1",
   "metadata": {},
   "outputs": [
    {
     "data": {
      "text/plain": [
       "(99441, 7)"
      ]
     },
     "execution_count": 4,
     "metadata": {},
     "output_type": "execute_result"
    }
   ],
   "source": [
    "orders.shape"
   ]
  },
  {
   "cell_type": "code",
   "execution_count": 5,
   "id": "e1cdb057",
   "metadata": {},
   "outputs": [
    {
     "data": {
      "text/html": [
       "<div>\n",
       "<style scoped>\n",
       "    .dataframe tbody tr th:only-of-type {\n",
       "        vertical-align: middle;\n",
       "    }\n",
       "\n",
       "    .dataframe tbody tr th {\n",
       "        vertical-align: top;\n",
       "    }\n",
       "\n",
       "    .dataframe thead th {\n",
       "        text-align: right;\n",
       "    }\n",
       "</style>\n",
       "<table border=\"1\" class=\"dataframe\">\n",
       "  <thead>\n",
       "    <tr style=\"text-align: right;\">\n",
       "      <th></th>\n",
       "      <th>order_id</th>\n",
       "      <th>customer_id</th>\n",
       "      <th>order_status</th>\n",
       "      <th>order_purchase_timestamp</th>\n",
       "      <th>order_approved_at</th>\n",
       "      <th>order_delivered_timestamp</th>\n",
       "      <th>order_estimated_delivery_date</th>\n",
       "    </tr>\n",
       "  </thead>\n",
       "  <tbody>\n",
       "    <tr>\n",
       "      <th>0</th>\n",
       "      <td>e481f51cbdc54678b7cc49136f2d6af7</td>\n",
       "      <td>7c396fd4830fd04220f754e42b4e5bff</td>\n",
       "      <td>delivered</td>\n",
       "      <td>2017-10-02 10:56:33</td>\n",
       "      <td>2017-10-02 11:07:15</td>\n",
       "      <td>2017-10-10 21:25:13</td>\n",
       "      <td>2017-10-18</td>\n",
       "    </tr>\n",
       "    <tr>\n",
       "      <th>1</th>\n",
       "      <td>53cdb2fc8bc7dce0b6741e2150273451</td>\n",
       "      <td>af07308b275d755c9edb36a90c618231</td>\n",
       "      <td>delivered</td>\n",
       "      <td>2018-07-24 20:41:37</td>\n",
       "      <td>2018-07-26 03:24:27</td>\n",
       "      <td>2018-08-07 15:27:45</td>\n",
       "      <td>2018-08-13</td>\n",
       "    </tr>\n",
       "    <tr>\n",
       "      <th>2</th>\n",
       "      <td>47770eb9100c2d0c44946d9cf07ec65d</td>\n",
       "      <td>3a653a41f6f9fc3d2a113cf8398680e8</td>\n",
       "      <td>delivered</td>\n",
       "      <td>2018-08-08 08:38:49</td>\n",
       "      <td>2018-08-08 08:55:23</td>\n",
       "      <td>2018-08-17 18:06:29</td>\n",
       "      <td>2018-09-04</td>\n",
       "    </tr>\n",
       "    <tr>\n",
       "      <th>3</th>\n",
       "      <td>949d5b44dbf5de918fe9c16f97b45f8a</td>\n",
       "      <td>7c142cf63193a1473d2e66489a9ae977</td>\n",
       "      <td>delivered</td>\n",
       "      <td>2017-11-18 19:28:06</td>\n",
       "      <td>2017-11-18 19:45:59</td>\n",
       "      <td>2017-12-02 00:28:42</td>\n",
       "      <td>2017-12-15</td>\n",
       "    </tr>\n",
       "    <tr>\n",
       "      <th>4</th>\n",
       "      <td>ad21c59c0840e6cb83a9ceb5573f8159</td>\n",
       "      <td>72632f0f9dd73dfee390c9b22eb56dd6</td>\n",
       "      <td>delivered</td>\n",
       "      <td>2018-02-13 21:18:39</td>\n",
       "      <td>2018-02-13 22:20:29</td>\n",
       "      <td>2018-02-16 18:17:02</td>\n",
       "      <td>2018-02-26</td>\n",
       "    </tr>\n",
       "  </tbody>\n",
       "</table>\n",
       "</div>"
      ],
      "text/plain": [
       "                           order_id                       customer_id  \\\n",
       "0  e481f51cbdc54678b7cc49136f2d6af7  7c396fd4830fd04220f754e42b4e5bff   \n",
       "1  53cdb2fc8bc7dce0b6741e2150273451  af07308b275d755c9edb36a90c618231   \n",
       "2  47770eb9100c2d0c44946d9cf07ec65d  3a653a41f6f9fc3d2a113cf8398680e8   \n",
       "3  949d5b44dbf5de918fe9c16f97b45f8a  7c142cf63193a1473d2e66489a9ae977   \n",
       "4  ad21c59c0840e6cb83a9ceb5573f8159  72632f0f9dd73dfee390c9b22eb56dd6   \n",
       "\n",
       "  order_status order_purchase_timestamp   order_approved_at  \\\n",
       "0    delivered      2017-10-02 10:56:33 2017-10-02 11:07:15   \n",
       "1    delivered      2018-07-24 20:41:37 2018-07-26 03:24:27   \n",
       "2    delivered      2018-08-08 08:38:49 2018-08-08 08:55:23   \n",
       "3    delivered      2017-11-18 19:28:06 2017-11-18 19:45:59   \n",
       "4    delivered      2018-02-13 21:18:39 2018-02-13 22:20:29   \n",
       "\n",
       "  order_delivered_timestamp order_estimated_delivery_date  \n",
       "0       2017-10-10 21:25:13                    2017-10-18  \n",
       "1       2018-08-07 15:27:45                    2018-08-13  \n",
       "2       2018-08-17 18:06:29                    2018-09-04  \n",
       "3       2017-12-02 00:28:42                    2017-12-15  \n",
       "4       2018-02-16 18:17:02                    2018-02-26  "
      ]
     },
     "execution_count": 5,
     "metadata": {},
     "output_type": "execute_result"
    }
   ],
   "source": [
    "orders.head()"
   ]
  },
  {
   "cell_type": "code",
   "execution_count": 6,
   "id": "ed635364",
   "metadata": {},
   "outputs": [
    {
     "data": {
      "image/png": "[encoded data removed]",
      "text/plain": [
       "<Figure size 1000x600 with 1 Axes>"
      ]
     },
     "metadata": {},
     "output_type": "display_data"
    }
   ],
   "source": [
    "#Checking the differet 'order_status' and their counts.\n",
    "\n",
    "plt.figure(figsize=(10,6))\n",
    "sns.countplot(data=orders, x=orders['order_status'])\n",
    "plt.show()"
   ]
  },
  {
   "cell_type": "markdown",
   "id": "af3ca5a4",
   "metadata": {},
   "source": [
    "#### As required by the assignment, we are only interested in 'delivered' order status. Therefore, other order status can be dropped"
   ]
  },
  {
   "cell_type": "code",
   "execution_count": 7,
   "id": "6d90f637",
   "metadata": {},
   "outputs": [
    {
     "data": {
      "text/plain": [
       "array(['delivered', 'invoiced', 'shipped', 'processing', 'unavailable',\n",
       "       'canceled', 'created', 'approved'], dtype=object)"
      ]
     },
     "execution_count": 7,
     "metadata": {},
     "output_type": "execute_result"
    }
   ],
   "source": [
    "#Checking different order statuses\n",
    "\n",
    "orders.order_status.unique()"
   ]
  },
  {
   "cell_type": "code",
   "execution_count": 8,
   "id": "96815ebf",
   "metadata": {},
   "outputs": [
    {
     "data": {
      "text/plain": [
       "96478"
      ]
     },
     "execution_count": 8,
     "metadata": {},
     "output_type": "execute_result"
    }
   ],
   "source": [
    "#Checking the total number of 'delivered' orders\n",
    "\n",
    "(orders.order_status==\"delivered\").sum()"
   ]
  },
  {
   "cell_type": "code",
   "execution_count": 9,
   "id": "bcac6778",
   "metadata": {},
   "outputs": [
    {
     "data": {
      "text/plain": [
       "(96478, 7)"
      ]
     },
     "execution_count": 9,
     "metadata": {},
     "output_type": "execute_result"
    }
   ],
   "source": [
    "#Restricting the orders dataframe with order_status as 'delivered'. Therefore only delivered orders selected.\n",
    "\n",
    "orders = orders[orders.order_status==\"delivered\"]\n",
    "orders.shape"
   ]
  },
  {
   "cell_type": "code",
   "execution_count": 10,
   "id": "7f3016ff",
   "metadata": {},
   "outputs": [
    {
     "data": {
      "text/plain": [
       "array(['delivered'], dtype=object)"
      ]
     },
     "execution_count": 10,
     "metadata": {},
     "output_type": "execute_result"
    }
   ],
   "source": [
    "#Checking the the order_status values again\n",
    "\n",
    "orders.order_status.unique()"
   ]
  },
  {
   "cell_type": "code",
   "execution_count": 11,
   "id": "d8277eb8",
   "metadata": {},
   "outputs": [
    {
     "data": {
      "text/plain": [
       "0"
      ]
     },
     "execution_count": 11,
     "metadata": {},
     "output_type": "execute_result"
    }
   ],
   "source": [
    "# Checking if order_id is duplicate.\n",
    "\n",
    "orders[\"order_id\"].duplicated().sum()"
   ]
  },
  {
   "cell_type": "code",
   "execution_count": 12,
   "id": "529ff238",
   "metadata": {},
   "outputs": [
    {
     "data": {
      "text/plain": [
       "order_approved_at                14\n",
       "order_delivered_timestamp         8\n",
       "order_id                          0\n",
       "customer_id                       0\n",
       "order_status                      0\n",
       "order_purchase_timestamp          0\n",
       "order_estimated_delivery_date     0\n",
       "dtype: int64"
      ]
     },
     "execution_count": 12,
     "metadata": {},
     "output_type": "execute_result"
    }
   ],
   "source": [
    "#Checking missing values.\n",
    "\n",
    "orders.isnull().sum().sort_values(ascending=False)"
   ]
  },
  {
   "cell_type": "code",
   "execution_count": 13,
   "id": "06c1b733",
   "metadata": {},
   "outputs": [],
   "source": [
    "#Imputing values of order_approved_at with order_purchase_timestamp\n",
    "\n",
    "orders.order_approved_at.fillna(orders.order_purchase_timestamp,inplace=True)\n",
    "\n",
    "#Imputing values of order_delivered_timestamp with order_estimated_delivery_date\n",
    "\n",
    "orders.order_delivered_timestamp.fillna(orders.order_estimated_delivery_date, inplace=True)"
   ]
  },
  {
   "cell_type": "code",
   "execution_count": 14,
   "id": "8eecfc8f",
   "metadata": {},
   "outputs": [
    {
     "data": {
      "text/plain": [
       "order_id                         0\n",
       "customer_id                      0\n",
       "order_status                     0\n",
       "order_purchase_timestamp         0\n",
       "order_approved_at                0\n",
       "order_delivered_timestamp        0\n",
       "order_estimated_delivery_date    0\n",
       "dtype: int64"
      ]
     },
     "execution_count": 14,
     "metadata": {},
     "output_type": "execute_result"
    }
   ],
   "source": [
    "#Checking again if any missing values are left.\n",
    "\n",
    "orders.isnull().sum().sort_values(ascending=False)"
   ]
  },
  {
   "cell_type": "markdown",
   "id": "d5c20682",
   "metadata": {},
   "source": [
    "#### 2. Order_items "
   ]
  },
  {
   "cell_type": "code",
   "execution_count": 15,
   "id": "b405d23a",
   "metadata": {},
   "outputs": [
    {
     "data": {
      "text/plain": [
       "(112650, 6)"
      ]
     },
     "execution_count": 15,
     "metadata": {},
     "output_type": "execute_result"
    }
   ],
   "source": [
    "# Reading the Order_items sheet\n",
    "\n",
    "order_items = pd.read_excel(\"Downloads\\\\Retail_dataset.xlsx\", sheet_name=\"order_items\")\n",
    "order_items.shape"
   ]
  },
  {
   "cell_type": "code",
   "execution_count": 16,
   "id": "2e854b74",
   "metadata": {},
   "outputs": [
    {
     "data": {
      "text/html": [
       "<div>\n",
       "<style scoped>\n",
       "    .dataframe tbody tr th:only-of-type {\n",
       "        vertical-align: middle;\n",
       "    }\n",
       "\n",
       "    .dataframe tbody tr th {\n",
       "        vertical-align: top;\n",
       "    }\n",
       "\n",
       "    .dataframe thead th {\n",
       "        text-align: right;\n",
       "    }\n",
       "</style>\n",
       "<table border=\"1\" class=\"dataframe\">\n",
       "  <thead>\n",
       "    <tr style=\"text-align: right;\">\n",
       "      <th></th>\n",
       "      <th>order_id</th>\n",
       "      <th>order_item_id</th>\n",
       "      <th>product_id</th>\n",
       "      <th>seller_id</th>\n",
       "      <th>price</th>\n",
       "      <th>shipping_charges</th>\n",
       "    </tr>\n",
       "  </thead>\n",
       "  <tbody>\n",
       "    <tr>\n",
       "      <th>0</th>\n",
       "      <td>00010242fe8c5a6d1ba2dd792cb16214</td>\n",
       "      <td>1</td>\n",
       "      <td>4244733e06e7ecb4970a6e2683c13e61</td>\n",
       "      <td>48436dade18ac8b2bce089ec2a041202</td>\n",
       "      <td>58.90</td>\n",
       "      <td>13.29</td>\n",
       "    </tr>\n",
       "    <tr>\n",
       "      <th>1</th>\n",
       "      <td>00018f77f2f0320c557190d7a144bdd3</td>\n",
       "      <td>1</td>\n",
       "      <td>e5f2d52b802189ee658865ca93d83a8f</td>\n",
       "      <td>dd7ddc04e1b6c2c614352b383efe2d36</td>\n",
       "      <td>239.90</td>\n",
       "      <td>19.93</td>\n",
       "    </tr>\n",
       "    <tr>\n",
       "      <th>2</th>\n",
       "      <td>000229ec398224ef6ca0657da4fc703e</td>\n",
       "      <td>1</td>\n",
       "      <td>c777355d18b72b67abbeef9df44fd0fd</td>\n",
       "      <td>5b51032eddd242adc84c38acab88f23d</td>\n",
       "      <td>199.00</td>\n",
       "      <td>17.87</td>\n",
       "    </tr>\n",
       "    <tr>\n",
       "      <th>3</th>\n",
       "      <td>00024acbcdf0a6daa1e931b038114c75</td>\n",
       "      <td>1</td>\n",
       "      <td>7634da152a4610f1595efa32f14722fc</td>\n",
       "      <td>9d7a1d34a5052409006425275ba1c2b4</td>\n",
       "      <td>12.99</td>\n",
       "      <td>12.79</td>\n",
       "    </tr>\n",
       "    <tr>\n",
       "      <th>4</th>\n",
       "      <td>00042b26cf59d7ce69dfabb4e55b4fd9</td>\n",
       "      <td>1</td>\n",
       "      <td>ac6c3623068f30de03045865e4e10089</td>\n",
       "      <td>df560393f3a51e74553ab94004ba5c87</td>\n",
       "      <td>199.90</td>\n",
       "      <td>18.14</td>\n",
       "    </tr>\n",
       "  </tbody>\n",
       "</table>\n",
       "</div>"
      ],
      "text/plain": [
       "                           order_id  order_item_id  \\\n",
       "0  00010242fe8c5a6d1ba2dd792cb16214              1   \n",
       "1  00018f77f2f0320c557190d7a144bdd3              1   \n",
       "2  000229ec398224ef6ca0657da4fc703e              1   \n",
       "3  00024acbcdf0a6daa1e931b038114c75              1   \n",
       "4  00042b26cf59d7ce69dfabb4e55b4fd9              1   \n",
       "\n",
       "                         product_id                         seller_id   price  \\\n",
       "0  4244733e06e7ecb4970a6e2683c13e61  48436dade18ac8b2bce089ec2a041202   58.90   \n",
       "1  e5f2d52b802189ee658865ca93d83a8f  dd7ddc04e1b6c2c614352b383efe2d36  239.90   \n",
       "2  c777355d18b72b67abbeef9df44fd0fd  5b51032eddd242adc84c38acab88f23d  199.00   \n",
       "3  7634da152a4610f1595efa32f14722fc  9d7a1d34a5052409006425275ba1c2b4   12.99   \n",
       "4  ac6c3623068f30de03045865e4e10089  df560393f3a51e74553ab94004ba5c87  199.90   \n",
       "\n",
       "   shipping_charges  \n",
       "0             13.29  \n",
       "1             19.93  \n",
       "2             17.87  \n",
       "3             12.79  \n",
       "4             18.14  "
      ]
     },
     "execution_count": 16,
     "metadata": {},
     "output_type": "execute_result"
    }
   ],
   "source": [
    "order_items.head()"
   ]
  },
  {
   "cell_type": "code",
   "execution_count": 17,
   "id": "ab5cee2d",
   "metadata": {},
   "outputs": [
    {
     "data": {
      "text/plain": [
       "order_id            0\n",
       "order_item_id       0\n",
       "product_id          0\n",
       "seller_id           0\n",
       "price               0\n",
       "shipping_charges    0\n",
       "dtype: int64"
      ]
     },
     "execution_count": 17,
     "metadata": {},
     "output_type": "execute_result"
    }
   ],
   "source": [
    "#Checking missing values.\n",
    "\n",
    "order_items.isnull().sum().sort_values(ascending=False)"
   ]
  },
  {
   "cell_type": "markdown",
   "id": "1725b39a",
   "metadata": {},
   "source": [
    "#### 3. Customers "
   ]
  },
  {
   "cell_type": "code",
   "execution_count": 18,
   "id": "43b6fc50",
   "metadata": {},
   "outputs": [
    {
     "data": {
      "text/plain": [
       "(99441, 4)"
      ]
     },
     "execution_count": 18,
     "metadata": {},
     "output_type": "execute_result"
    }
   ],
   "source": [
    "# Reading the Order_items sheet\n",
    "\n",
    "customers = pd.read_excel(\"Downloads\\\\Retail_dataset.xlsx\", sheet_name=\"customers\")\n",
    "customers.shape"
   ]
  },
  {
   "cell_type": "code",
   "execution_count": 19,
   "id": "89cf83af",
   "metadata": {},
   "outputs": [
    {
     "data": {
      "text/html": [
       "<div>\n",
       "<style scoped>\n",
       "    .dataframe tbody tr th:only-of-type {\n",
       "        vertical-align: middle;\n",
       "    }\n",
       "\n",
       "    .dataframe tbody tr th {\n",
       "        vertical-align: top;\n",
       "    }\n",
       "\n",
       "    .dataframe thead th {\n",
       "        text-align: right;\n",
       "    }\n",
       "</style>\n",
       "<table border=\"1\" class=\"dataframe\">\n",
       "  <thead>\n",
       "    <tr style=\"text-align: right;\">\n",
       "      <th></th>\n",
       "      <th>customer_id</th>\n",
       "      <th>customer_zip_code_prefix</th>\n",
       "      <th>customer_city</th>\n",
       "      <th>customer_state</th>\n",
       "    </tr>\n",
       "  </thead>\n",
       "  <tbody>\n",
       "    <tr>\n",
       "      <th>0</th>\n",
       "      <td>861eff4711a542e4b93843c6dd7febb0</td>\n",
       "      <td>14409</td>\n",
       "      <td>franca</td>\n",
       "      <td>SP</td>\n",
       "    </tr>\n",
       "    <tr>\n",
       "      <th>1</th>\n",
       "      <td>290c77bc529b7ac935b93aa66c333dc3</td>\n",
       "      <td>9790</td>\n",
       "      <td>sao bernardo do campo</td>\n",
       "      <td>SP</td>\n",
       "    </tr>\n",
       "    <tr>\n",
       "      <th>2</th>\n",
       "      <td>060e732b5b29e8181a18229c7b0b2b5e</td>\n",
       "      <td>1151</td>\n",
       "      <td>sao paulo</td>\n",
       "      <td>SP</td>\n",
       "    </tr>\n",
       "    <tr>\n",
       "      <th>3</th>\n",
       "      <td>259dac757896d24d7702b9acbbff3f3c</td>\n",
       "      <td>8775</td>\n",
       "      <td>mogi das cruzes</td>\n",
       "      <td>SP</td>\n",
       "    </tr>\n",
       "    <tr>\n",
       "      <th>4</th>\n",
       "      <td>345ecd01c38d18a9036ed96c73b8d066</td>\n",
       "      <td>13056</td>\n",
       "      <td>campinas</td>\n",
       "      <td>SP</td>\n",
       "    </tr>\n",
       "  </tbody>\n",
       "</table>\n",
       "</div>"
      ],
      "text/plain": [
       "                        customer_id  customer_zip_code_prefix  \\\n",
       "0  861eff4711a542e4b93843c6dd7febb0                     14409   \n",
       "1  290c77bc529b7ac935b93aa66c333dc3                      9790   \n",
       "2  060e732b5b29e8181a18229c7b0b2b5e                      1151   \n",
       "3  259dac757896d24d7702b9acbbff3f3c                      8775   \n",
       "4  345ecd01c38d18a9036ed96c73b8d066                     13056   \n",
       "\n",
       "           customer_city customer_state  \n",
       "0                 franca             SP  \n",
       "1  sao bernardo do campo             SP  \n",
       "2              sao paulo             SP  \n",
       "3        mogi das cruzes             SP  \n",
       "4               campinas             SP  "
      ]
     },
     "execution_count": 19,
     "metadata": {},
     "output_type": "execute_result"
    }
   ],
   "source": [
    "customers.head()"
   ]
  },
  {
   "cell_type": "code",
   "execution_count": 20,
   "id": "2d4657b6",
   "metadata": {},
   "outputs": [
    {
     "data": {
      "text/plain": [
       "customer_id                 0\n",
       "customer_zip_code_prefix    0\n",
       "customer_city               0\n",
       "customer_state              0\n",
       "dtype: int64"
      ]
     },
     "execution_count": 20,
     "metadata": {},
     "output_type": "execute_result"
    }
   ],
   "source": [
    "#Checking missing values.\n",
    "\n",
    "customers.isnull().sum()"
   ]
  },
  {
   "cell_type": "code",
   "execution_count": 21,
   "id": "b878d869",
   "metadata": {},
   "outputs": [
    {
     "data": {
      "text/plain": [
       "3345"
      ]
     },
     "execution_count": 21,
     "metadata": {},
     "output_type": "execute_result"
    }
   ],
   "source": [
    "#Checking for duplicate customer values\n",
    "\n",
    "customers.customer_id.duplicated().sum()"
   ]
  },
  {
   "cell_type": "code",
   "execution_count": 22,
   "id": "8c1de7f8",
   "metadata": {},
   "outputs": [],
   "source": [
    "#Dropping the duplicates and keeping the first occurence \n",
    "\n",
    "customers.drop_duplicates(subset=\"customer_id\", keep=\"first\", inplace=True)"
   ]
  },
  {
   "cell_type": "code",
   "execution_count": 23,
   "id": "c659a51d",
   "metadata": {},
   "outputs": [
    {
     "data": {
      "text/plain": [
       "(96096, 4)"
      ]
     },
     "execution_count": 23,
     "metadata": {},
     "output_type": "execute_result"
    }
   ],
   "source": [
    "#Checking the shape after dropping duplicates. It is less now 99441 - 3345 = 96096\n",
    "\n",
    "customers.shape"
   ]
  },
  {
   "cell_type": "code",
   "execution_count": 24,
   "id": "be75da3f",
   "metadata": {},
   "outputs": [
    {
     "data": {
      "text/plain": [
       "0"
      ]
     },
     "execution_count": 24,
     "metadata": {},
     "output_type": "execute_result"
    }
   ],
   "source": [
    "#Validating if any duplicates left\n",
    "\n",
    "customers.customer_id.duplicated().sum()"
   ]
  },
  {
   "cell_type": "markdown",
   "id": "5944b837",
   "metadata": {},
   "source": [
    "#### 4. Payments"
   ]
  },
  {
   "cell_type": "code",
   "execution_count": 25,
   "id": "fb473e8d",
   "metadata": {},
   "outputs": [
    {
     "data": {
      "text/html": [
       "<div>\n",
       "<style scoped>\n",
       "    .dataframe tbody tr th:only-of-type {\n",
       "        vertical-align: middle;\n",
       "    }\n",
       "\n",
       "    .dataframe tbody tr th {\n",
       "        vertical-align: top;\n",
       "    }\n",
       "\n",
       "    .dataframe thead th {\n",
       "        text-align: right;\n",
       "    }\n",
       "</style>\n",
       "<table border=\"1\" class=\"dataframe\">\n",
       "  <thead>\n",
       "    <tr style=\"text-align: right;\">\n",
       "      <th></th>\n",
       "      <th>order_id</th>\n",
       "      <th>payment_sequential</th>\n",
       "      <th>payment_type</th>\n",
       "      <th>payment_installments</th>\n",
       "      <th>payment_value</th>\n",
       "    </tr>\n",
       "  </thead>\n",
       "  <tbody>\n",
       "    <tr>\n",
       "      <th>0</th>\n",
       "      <td>b81ef226f3fe1789b1e8b2acac839d17</td>\n",
       "      <td>1</td>\n",
       "      <td>credit_card</td>\n",
       "      <td>8</td>\n",
       "      <td>99.33</td>\n",
       "    </tr>\n",
       "    <tr>\n",
       "      <th>1</th>\n",
       "      <td>a9810da82917af2d9aefd1278f1dcfa0</td>\n",
       "      <td>1</td>\n",
       "      <td>credit_card</td>\n",
       "      <td>1</td>\n",
       "      <td>24.39</td>\n",
       "    </tr>\n",
       "    <tr>\n",
       "      <th>2</th>\n",
       "      <td>25e8ea4e93396b6fa0d3dd708e76c1bd</td>\n",
       "      <td>1</td>\n",
       "      <td>credit_card</td>\n",
       "      <td>1</td>\n",
       "      <td>65.71</td>\n",
       "    </tr>\n",
       "    <tr>\n",
       "      <th>3</th>\n",
       "      <td>ba78997921bbcdc1373bb41e913ab953</td>\n",
       "      <td>1</td>\n",
       "      <td>credit_card</td>\n",
       "      <td>8</td>\n",
       "      <td>107.78</td>\n",
       "    </tr>\n",
       "    <tr>\n",
       "      <th>4</th>\n",
       "      <td>42fdf880ba16b47b59251dd489d4441a</td>\n",
       "      <td>1</td>\n",
       "      <td>credit_card</td>\n",
       "      <td>2</td>\n",
       "      <td>128.45</td>\n",
       "    </tr>\n",
       "  </tbody>\n",
       "</table>\n",
       "</div>"
      ],
      "text/plain": [
       "                           order_id  payment_sequential payment_type  \\\n",
       "0  b81ef226f3fe1789b1e8b2acac839d17                   1  credit_card   \n",
       "1  a9810da82917af2d9aefd1278f1dcfa0                   1  credit_card   \n",
       "2  25e8ea4e93396b6fa0d3dd708e76c1bd                   1  credit_card   \n",
       "3  ba78997921bbcdc1373bb41e913ab953                   1  credit_card   \n",
       "4  42fdf880ba16b47b59251dd489d4441a                   1  credit_card   \n",
       "\n",
       "   payment_installments  payment_value  \n",
       "0                     8          99.33  \n",
       "1                     1          24.39  \n",
       "2                     1          65.71  \n",
       "3                     8         107.78  \n",
       "4                     2         128.45  "
      ]
     },
     "execution_count": 25,
     "metadata": {},
     "output_type": "execute_result"
    }
   ],
   "source": [
    "# Reading the Payments sheet\n",
    "payments = pd.read_excel(\"Downloads\\\\Retail_dataset.xlsx\", sheet_name=\"payments\")\n",
    "payments.head()"
   ]
  },
  {
   "cell_type": "code",
   "execution_count": 26,
   "id": "dacc2cfd",
   "metadata": {},
   "outputs": [
    {
     "data": {
      "text/plain": [
       "(103886, 5)"
      ]
     },
     "execution_count": 26,
     "metadata": {},
     "output_type": "execute_result"
    }
   ],
   "source": [
    "payments.shape"
   ]
  },
  {
   "cell_type": "code",
   "execution_count": 27,
   "id": "6a45683a",
   "metadata": {},
   "outputs": [
    {
     "data": {
      "image/png": "[encoded data removed]",
      "text/plain": [
       "<Figure size 1000x600 with 1 Axes>"
      ]
     },
     "metadata": {},
     "output_type": "display_data"
    }
   ],
   "source": [
    "#Checking the most used 'payment_type' and their counts.\n",
    "\n",
    "plt.figure(figsize=(10,6))\n",
    "sns.countplot(data=payments, x=payments['payment_type'])\n",
    "plt.show()"
   ]
  },
  {
   "cell_type": "markdown",
   "id": "e77c6228",
   "metadata": {},
   "source": [
    "#### We can see that Credit card is the most used payment type for purchase."
   ]
  },
  {
   "cell_type": "code",
   "execution_count": 28,
   "id": "eb0a8cc6",
   "metadata": {},
   "outputs": [
    {
     "data": {
      "text/html": [
       "<div>\n",
       "<style scoped>\n",
       "    .dataframe tbody tr th:only-of-type {\n",
       "        vertical-align: middle;\n",
       "    }\n",
       "\n",
       "    .dataframe tbody tr th {\n",
       "        vertical-align: top;\n",
       "    }\n",
       "\n",
       "    .dataframe thead th {\n",
       "        text-align: right;\n",
       "    }\n",
       "</style>\n",
       "<table border=\"1\" class=\"dataframe\">\n",
       "  <thead>\n",
       "    <tr style=\"text-align: right;\">\n",
       "      <th></th>\n",
       "      <th>order_id</th>\n",
       "      <th>payment_sequential</th>\n",
       "      <th>payment_type</th>\n",
       "      <th>payment_installments</th>\n",
       "      <th>payment_value</th>\n",
       "    </tr>\n",
       "  </thead>\n",
       "  <tbody>\n",
       "    <tr>\n",
       "      <th>51280</th>\n",
       "      <td>4637ca194b6387e2d538dc89b124b0ee</td>\n",
       "      <td>1</td>\n",
       "      <td>not_defined</td>\n",
       "      <td>1</td>\n",
       "      <td>0.0</td>\n",
       "    </tr>\n",
       "    <tr>\n",
       "      <th>57411</th>\n",
       "      <td>00b1cb0320190ca0daa2c88b35206009</td>\n",
       "      <td>1</td>\n",
       "      <td>not_defined</td>\n",
       "      <td>1</td>\n",
       "      <td>0.0</td>\n",
       "    </tr>\n",
       "    <tr>\n",
       "      <th>94427</th>\n",
       "      <td>c8c528189310eaa44a745b8d9d26908b</td>\n",
       "      <td>1</td>\n",
       "      <td>not_defined</td>\n",
       "      <td>1</td>\n",
       "      <td>0.0</td>\n",
       "    </tr>\n",
       "  </tbody>\n",
       "</table>\n",
       "</div>"
      ],
      "text/plain": [
       "                               order_id  payment_sequential payment_type  \\\n",
       "51280  4637ca194b6387e2d538dc89b124b0ee                   1  not_defined   \n",
       "57411  00b1cb0320190ca0daa2c88b35206009                   1  not_defined   \n",
       "94427  c8c528189310eaa44a745b8d9d26908b                   1  not_defined   \n",
       "\n",
       "       payment_installments  payment_value  \n",
       "51280                     1            0.0  \n",
       "57411                     1            0.0  \n",
       "94427                     1            0.0  "
      ]
     },
     "execution_count": 28,
     "metadata": {},
     "output_type": "execute_result"
    }
   ],
   "source": [
    "#Checking the payments 'not defined' affected rows\n",
    "payments[payments['payment_type']=='not_defined']"
   ]
  },
  {
   "cell_type": "code",
   "execution_count": 29,
   "id": "08136e87",
   "metadata": {},
   "outputs": [],
   "source": [
    "#Since there are only 3 recors affected, we can drop these records.\n",
    "\n",
    "i=payments[payments['payment_type']=='not_defined'].index\n",
    "payments.drop(i, axis=0, inplace=True)"
   ]
  },
  {
   "cell_type": "code",
   "execution_count": 30,
   "id": "6c47e9c2",
   "metadata": {},
   "outputs": [
    {
     "data": {
      "text/plain": [
       "array(['credit_card', 'wallet', 'voucher', 'debit_card'], dtype=object)"
      ]
     },
     "execution_count": 30,
     "metadata": {},
     "output_type": "execute_result"
    }
   ],
   "source": [
    "# Validating if payment type 'not_defined' is dropped\n",
    "\n",
    "payments.payment_type.unique()"
   ]
  },
  {
   "cell_type": "code",
   "execution_count": 31,
   "id": "8c90ce51",
   "metadata": {},
   "outputs": [
    {
     "data": {
      "text/plain": [
       "order_id                0\n",
       "payment_sequential      0\n",
       "payment_type            0\n",
       "payment_installments    0\n",
       "payment_value           0\n",
       "dtype: int64"
      ]
     },
     "execution_count": 31,
     "metadata": {},
     "output_type": "execute_result"
    }
   ],
   "source": [
    "#Checking missing values.\n",
    "payments.isnull().sum()"
   ]
  },
  {
   "cell_type": "markdown",
   "id": "c0b72f26",
   "metadata": {},
   "source": [
    "#### 5. Products"
   ]
  },
  {
   "cell_type": "code",
   "execution_count": 32,
   "id": "49399b42",
   "metadata": {},
   "outputs": [
    {
     "data": {
      "text/plain": [
       "(32951, 6)"
      ]
     },
     "execution_count": 32,
     "metadata": {},
     "output_type": "execute_result"
    }
   ],
   "source": [
    "# Reading the Products sheet\n",
    "\n",
    "products = pd.read_excel(\"Downloads\\\\Retail_dataset.xlsx\", sheet_name=\"products\")\n",
    "products.shape"
   ]
  },
  {
   "cell_type": "code",
   "execution_count": 33,
   "id": "ef050692",
   "metadata": {},
   "outputs": [
    {
     "data": {
      "text/html": [
       "<div>\n",
       "<style scoped>\n",
       "    .dataframe tbody tr th:only-of-type {\n",
       "        vertical-align: middle;\n",
       "    }\n",
       "\n",
       "    .dataframe tbody tr th {\n",
       "        vertical-align: top;\n",
       "    }\n",
       "\n",
       "    .dataframe thead th {\n",
       "        text-align: right;\n",
       "    }\n",
       "</style>\n",
       "<table border=\"1\" class=\"dataframe\">\n",
       "  <thead>\n",
       "    <tr style=\"text-align: right;\">\n",
       "      <th></th>\n",
       "      <th>product_id</th>\n",
       "      <th>product_category_name</th>\n",
       "      <th>product_weight_g</th>\n",
       "      <th>product_length_cm</th>\n",
       "      <th>product_height_cm</th>\n",
       "      <th>product_width_cm</th>\n",
       "    </tr>\n",
       "  </thead>\n",
       "  <tbody>\n",
       "    <tr>\n",
       "      <th>0</th>\n",
       "      <td>1e9e8ef04dbcff4541ed26657ea517e5</td>\n",
       "      <td>perfumery</td>\n",
       "      <td>225.0</td>\n",
       "      <td>16.0</td>\n",
       "      <td>10.0</td>\n",
       "      <td>14.0</td>\n",
       "    </tr>\n",
       "    <tr>\n",
       "      <th>1</th>\n",
       "      <td>3aa071139cb16b67ca9e5dea641aaa2f</td>\n",
       "      <td>art</td>\n",
       "      <td>1000.0</td>\n",
       "      <td>30.0</td>\n",
       "      <td>18.0</td>\n",
       "      <td>20.0</td>\n",
       "    </tr>\n",
       "    <tr>\n",
       "      <th>2</th>\n",
       "      <td>96bd76ec8810374ed1b65e291975717f</td>\n",
       "      <td>sports_leisure</td>\n",
       "      <td>154.0</td>\n",
       "      <td>18.0</td>\n",
       "      <td>9.0</td>\n",
       "      <td>15.0</td>\n",
       "    </tr>\n",
       "    <tr>\n",
       "      <th>3</th>\n",
       "      <td>cef67bcfe19066a932b7673e239eb23d</td>\n",
       "      <td>baby</td>\n",
       "      <td>371.0</td>\n",
       "      <td>26.0</td>\n",
       "      <td>4.0</td>\n",
       "      <td>26.0</td>\n",
       "    </tr>\n",
       "    <tr>\n",
       "      <th>4</th>\n",
       "      <td>9dc1a7de274444849c219cff195d0b71</td>\n",
       "      <td>housewares</td>\n",
       "      <td>625.0</td>\n",
       "      <td>20.0</td>\n",
       "      <td>17.0</td>\n",
       "      <td>13.0</td>\n",
       "    </tr>\n",
       "  </tbody>\n",
       "</table>\n",
       "</div>"
      ],
      "text/plain": [
       "                         product_id product_category_name  product_weight_g  \\\n",
       "0  1e9e8ef04dbcff4541ed26657ea517e5             perfumery             225.0   \n",
       "1  3aa071139cb16b67ca9e5dea641aaa2f                   art            1000.0   \n",
       "2  96bd76ec8810374ed1b65e291975717f        sports_leisure             154.0   \n",
       "3  cef67bcfe19066a932b7673e239eb23d                  baby             371.0   \n",
       "4  9dc1a7de274444849c219cff195d0b71            housewares             625.0   \n",
       "\n",
       "   product_length_cm  product_height_cm  product_width_cm  \n",
       "0               16.0               10.0              14.0  \n",
       "1               30.0               18.0              20.0  \n",
       "2               18.0                9.0              15.0  \n",
       "3               26.0                4.0              26.0  \n",
       "4               20.0               17.0              13.0  "
      ]
     },
     "execution_count": 33,
     "metadata": {},
     "output_type": "execute_result"
    }
   ],
   "source": [
    "products.head()"
   ]
  },
  {
   "cell_type": "code",
   "execution_count": 34,
   "id": "170de238",
   "metadata": {},
   "outputs": [
    {
     "data": {
      "text/plain": [
       "product_category_name    170\n",
       "product_weight_g           2\n",
       "product_length_cm          2\n",
       "product_height_cm          2\n",
       "product_width_cm           2\n",
       "product_id                 0\n",
       "dtype: int64"
      ]
     },
     "execution_count": 34,
     "metadata": {},
     "output_type": "execute_result"
    }
   ],
   "source": [
    "#Checking missing values.\n",
    "\n",
    "products.isna().sum().sort_values(ascending=False)"
   ]
  },
  {
   "cell_type": "code",
   "execution_count": 35,
   "id": "06bab017",
   "metadata": {},
   "outputs": [
    {
     "data": {
      "text/plain": [
       "'toys'"
      ]
     },
     "execution_count": 35,
     "metadata": {},
     "output_type": "execute_result"
    }
   ],
   "source": [
    "#Checking the mode of \"product_category_name\" for imputing the categorical variable - 'product_category_name'\n",
    "\n",
    "products[\"product_category_name\"].mode()[0]"
   ]
  },
  {
   "cell_type": "code",
   "execution_count": 36,
   "id": "99b8ff14",
   "metadata": {},
   "outputs": [],
   "source": [
    "#Imputing the product_category_name NULL values\n",
    "\n",
    "products[\"product_category_name\"].fillna(products[\"product_category_name\"].mode()[0], inplace=True)"
   ]
  },
  {
   "cell_type": "code",
   "execution_count": 37,
   "id": "e0df65cb",
   "metadata": {},
   "outputs": [
    {
     "data": {
      "text/plain": [
       "product_weight_g         2\n",
       "product_length_cm        2\n",
       "product_height_cm        2\n",
       "product_width_cm         2\n",
       "product_id               0\n",
       "product_category_name    0\n",
       "dtype: int64"
      ]
     },
     "execution_count": 37,
     "metadata": {},
     "output_type": "execute_result"
    }
   ],
   "source": [
    "#Checking missing values again for remaing columns.\n",
    "\n",
    "products.isna().sum().sort_values(ascending=False)"
   ]
  },
  {
   "cell_type": "code",
   "execution_count": 38,
   "id": "13a2cfef",
   "metadata": {},
   "outputs": [
    {
     "data": {
      "text/html": [
       "<div>\n",
       "<style scoped>\n",
       "    .dataframe tbody tr th:only-of-type {\n",
       "        vertical-align: middle;\n",
       "    }\n",
       "\n",
       "    .dataframe tbody tr th {\n",
       "        vertical-align: top;\n",
       "    }\n",
       "\n",
       "    .dataframe thead th {\n",
       "        text-align: right;\n",
       "    }\n",
       "</style>\n",
       "<table border=\"1\" class=\"dataframe\">\n",
       "  <thead>\n",
       "    <tr style=\"text-align: right;\">\n",
       "      <th></th>\n",
       "      <th>product_weight_g</th>\n",
       "      <th>product_length_cm</th>\n",
       "      <th>product_height_cm</th>\n",
       "      <th>product_width_cm</th>\n",
       "    </tr>\n",
       "  </thead>\n",
       "  <tbody>\n",
       "    <tr>\n",
       "      <th>count</th>\n",
       "      <td>32949.000000</td>\n",
       "      <td>32949.000000</td>\n",
       "      <td>32949.000000</td>\n",
       "      <td>32949.000000</td>\n",
       "    </tr>\n",
       "    <tr>\n",
       "      <th>mean</th>\n",
       "      <td>2276.472488</td>\n",
       "      <td>30.815078</td>\n",
       "      <td>16.937661</td>\n",
       "      <td>23.196728</td>\n",
       "    </tr>\n",
       "    <tr>\n",
       "      <th>std</th>\n",
       "      <td>4282.038731</td>\n",
       "      <td>16.914458</td>\n",
       "      <td>13.637554</td>\n",
       "      <td>12.079047</td>\n",
       "    </tr>\n",
       "    <tr>\n",
       "      <th>min</th>\n",
       "      <td>0.000000</td>\n",
       "      <td>7.000000</td>\n",
       "      <td>2.000000</td>\n",
       "      <td>6.000000</td>\n",
       "    </tr>\n",
       "    <tr>\n",
       "      <th>25%</th>\n",
       "      <td>300.000000</td>\n",
       "      <td>18.000000</td>\n",
       "      <td>8.000000</td>\n",
       "      <td>15.000000</td>\n",
       "    </tr>\n",
       "    <tr>\n",
       "      <th>50%</th>\n",
       "      <td>700.000000</td>\n",
       "      <td>25.000000</td>\n",
       "      <td>13.000000</td>\n",
       "      <td>20.000000</td>\n",
       "    </tr>\n",
       "    <tr>\n",
       "      <th>75%</th>\n",
       "      <td>1900.000000</td>\n",
       "      <td>38.000000</td>\n",
       "      <td>21.000000</td>\n",
       "      <td>30.000000</td>\n",
       "    </tr>\n",
       "    <tr>\n",
       "      <th>max</th>\n",
       "      <td>40425.000000</td>\n",
       "      <td>105.000000</td>\n",
       "      <td>105.000000</td>\n",
       "      <td>118.000000</td>\n",
       "    </tr>\n",
       "  </tbody>\n",
       "</table>\n",
       "</div>"
      ],
      "text/plain": [
       "       product_weight_g  product_length_cm  product_height_cm  \\\n",
       "count      32949.000000       32949.000000       32949.000000   \n",
       "mean        2276.472488          30.815078          16.937661   \n",
       "std         4282.038731          16.914458          13.637554   \n",
       "min            0.000000           7.000000           2.000000   \n",
       "25%          300.000000          18.000000           8.000000   \n",
       "50%          700.000000          25.000000          13.000000   \n",
       "75%         1900.000000          38.000000          21.000000   \n",
       "max        40425.000000         105.000000         105.000000   \n",
       "\n",
       "       product_width_cm  \n",
       "count      32949.000000  \n",
       "mean          23.196728  \n",
       "std           12.079047  \n",
       "min            6.000000  \n",
       "25%           15.000000  \n",
       "50%           20.000000  \n",
       "75%           30.000000  \n",
       "max          118.000000  "
      ]
     },
     "execution_count": 38,
     "metadata": {},
     "output_type": "execute_result"
    }
   ],
   "source": [
    "#Checking the description of Numerical columns to gain insights on the NULL values of remaining columns\n",
    "products.describe()"
   ]
  },
  {
   "cell_type": "code",
   "execution_count": 39,
   "id": "6f5372c9",
   "metadata": {},
   "outputs": [
    {
     "data": {
      "image/png": "[encoded data removed]",
      "text/plain": [
       "<Figure size 1500x400 with 1 Axes>"
      ]
     },
     "metadata": {},
     "output_type": "display_data"
    }
   ],
   "source": [
    "#Visualizing the product_weight_g for data skewness\n",
    "\n",
    "plt.figure(figsize=(15,4))\n",
    "sns.distplot(products.product_weight_g)\n",
    "plt.axvline(products.product_weight_g.mean(), color=\"yellow\")\n",
    "plt.axvline(products.product_weight_g.median(), color=\"red\")\n",
    "plt.show()"
   ]
  },
  {
   "cell_type": "code",
   "execution_count": 40,
   "id": "3df5c21a",
   "metadata": {},
   "outputs": [
    {
     "data": {
      "image/png": "[encoded data removed]",
      "text/plain": [
       "<Figure size 1500x400 with 1 Axes>"
      ]
     },
     "metadata": {},
     "output_type": "display_data"
    }
   ],
   "source": [
    "#Visualizing the product_length_cm for data skewness\n",
    "\n",
    "plt.figure(figsize=(15,4))\n",
    "sns.distplot(products.product_length_cm)\n",
    "plt.axvline(products.product_length_cm.mean(), color=\"yellow\")\n",
    "plt.axvline(products.product_length_cm.median(), color=\"red\")\n",
    "plt.show()"
   ]
  },
  {
   "cell_type": "code",
   "execution_count": 41,
   "id": "5af69a19",
   "metadata": {},
   "outputs": [
    {
     "data": {
      "image/png": "[encoded data removed]",
      "text/plain": [
       "<Figure size 1500x400 with 1 Axes>"
      ]
     },
     "metadata": {},
     "output_type": "display_data"
    }
   ],
   "source": [
    "#Visualizing the product_height_cm for data skewness\n",
    "\n",
    "plt.figure(figsize=(15,4))\n",
    "sns.distplot(products.product_height_cm)\n",
    "plt.axvline(products.product_height_cm.mean(), color=\"yellow\")\n",
    "plt.axvline(products.product_height_cm.median(), color=\"red\")\n",
    "plt.show()"
   ]
  },
  {
   "cell_type": "code",
   "execution_count": 42,
   "id": "09a74492",
   "metadata": {},
   "outputs": [
    {
     "data": {
      "image/png": "[encoded data removed]",
      "text/plain": [
       "<Figure size 1500x400 with 1 Axes>"
      ]
     },
     "metadata": {},
     "output_type": "display_data"
    }
   ],
   "source": [
    "#Visualizing the product_width_cm for data skewness\n",
    "\n",
    "plt.figure(figsize=(15,4))\n",
    "sns.distplot(products.product_width_cm)\n",
    "plt.axvline(products.product_width_cm.mean(), color=\"yellow\")\n",
    "plt.axvline(products.product_width_cm.median(), color=\"red\")\n",
    "plt.show()"
   ]
  },
  {
   "cell_type": "code",
   "execution_count": 43,
   "id": "9b03c956",
   "metadata": {},
   "outputs": [],
   "source": [
    "#Imputing the missing values with appropriate method. Since all of them having right skewed distribution, therefore Median.\n",
    "\n",
    "products.product_weight_g.fillna(products.product_weight_g.median(), inplace=True)\n",
    "products.product_length_cm.fillna(products.product_length_cm.median(), inplace=True)\n",
    "products.product_height_cm.fillna(products.product_height_cm.median(), inplace=True)\n",
    "products.product_width_cm.fillna(products.product_width_cm.median(), inplace=True)"
   ]
  },
  {
   "cell_type": "code",
   "execution_count": 44,
   "id": "63f42e5b",
   "metadata": {},
   "outputs": [
    {
     "data": {
      "text/plain": [
       "product_id               0\n",
       "product_category_name    0\n",
       "product_weight_g         0\n",
       "product_length_cm        0\n",
       "product_height_cm        0\n",
       "product_width_cm         0\n",
       "dtype: int64"
      ]
     },
     "execution_count": 44,
     "metadata": {},
     "output_type": "execute_result"
    }
   ],
   "source": [
    "#Validating missing values after imputing.\n",
    "\n",
    "products.isna().sum().sort_values(ascending=False)"
   ]
  },
  {
   "cell_type": "markdown",
   "id": "13a33b92",
   "metadata": {},
   "source": [
    "#### After all the sheets are cleaned and prepared, the different datasets will be merged to use the final dataset based on the given data model (ERD) for:\n",
    "\n",
    "-  Removing the Outliers.  \n",
    "-  Market Basket analysis using apriori alogorithm. \n"
   ]
  },
  {
   "attachments": {
    "Olist_Data_Model.PNG": {
     "image/png": "[encoded data removed]"
    }
   },
   "cell_type": "markdown",
   "id": "ce6ff6cf",
   "metadata": {},
   "source": [
    "![Olist_Data_Model.PNG](attachment:Olist_Data_Model.PNG)"
   ]
  },
  {
   "cell_type": "code",
   "execution_count": 45,
   "id": "aed9209b",
   "metadata": {},
   "outputs": [],
   "source": [
    "#Creating a new dataframe 'orders_delivered'. \n",
    "#This dataframe will contain the data merged using different dataframes.\n",
    "\n",
    "#Merging 'orders' with 'order_items'\n",
    "\n",
    "orders_delivered = pd.merge(orders,order_items,how='inner',on='order_id')"
   ]
  },
  {
   "cell_type": "code",
   "execution_count": 46,
   "id": "6953ebfd",
   "metadata": {},
   "outputs": [
    {
     "data": {
      "text/plain": [
       "(110197, 12)"
      ]
     },
     "execution_count": 46,
     "metadata": {},
     "output_type": "execute_result"
    }
   ],
   "source": [
    "orders_delivered.shape"
   ]
  },
  {
   "cell_type": "code",
   "execution_count": 47,
   "id": "7fe1aa1f",
   "metadata": {},
   "outputs": [],
   "source": [
    "#Merging 'orders_delivered' with 'products'\n",
    "\n",
    "orders_delivered = pd.merge(orders_delivered,products,how='inner',on='product_id')"
   ]
  },
  {
   "cell_type": "code",
   "execution_count": 48,
   "id": "2d38b877",
   "metadata": {},
   "outputs": [
    {
     "data": {
      "text/plain": [
       "(110197, 17)"
      ]
     },
     "execution_count": 48,
     "metadata": {},
     "output_type": "execute_result"
    }
   ],
   "source": [
    "orders_delivered.shape"
   ]
  },
  {
   "cell_type": "code",
   "execution_count": 49,
   "id": "4acf53db",
   "metadata": {},
   "outputs": [],
   "source": [
    "#Merging 'orders_delivered' with 'payments'\n",
    "\n",
    "orders_delivered = pd.merge(orders_delivered,payments,how='inner',on='order_id')"
   ]
  },
  {
   "cell_type": "code",
   "execution_count": 50,
   "id": "ec0ef330",
   "metadata": {},
   "outputs": [
    {
     "data": {
      "text/plain": [
       "(115035, 21)"
      ]
     },
     "execution_count": 50,
     "metadata": {},
     "output_type": "execute_result"
    }
   ],
   "source": [
    "orders_delivered.shape"
   ]
  },
  {
   "cell_type": "code",
   "execution_count": 51,
   "id": "148689e3",
   "metadata": {},
   "outputs": [],
   "source": [
    "#Merging 'orders_delivered' with 'customers'\n",
    "\n",
    "orders_delivered = pd.merge(orders_delivered,customers,how='inner',on='customer_id')"
   ]
  },
  {
   "cell_type": "code",
   "execution_count": 52,
   "id": "e7cb6850",
   "metadata": {},
   "outputs": [
    {
     "data": {
      "text/plain": [
       "(115035, 24)"
      ]
     },
     "execution_count": 52,
     "metadata": {},
     "output_type": "execute_result"
    }
   ],
   "source": [
    "orders_delivered.shape"
   ]
  },
  {
   "cell_type": "code",
   "execution_count": 53,
   "id": "9afd7ac9",
   "metadata": {},
   "outputs": [
    {
     "data": {
      "text/html": [
       "<div>\n",
       "<style scoped>\n",
       "    .dataframe tbody tr th:only-of-type {\n",
       "        vertical-align: middle;\n",
       "    }\n",
       "\n",
       "    .dataframe tbody tr th {\n",
       "        vertical-align: top;\n",
       "    }\n",
       "\n",
       "    .dataframe thead th {\n",
       "        text-align: right;\n",
       "    }\n",
       "</style>\n",
       "<table border=\"1\" class=\"dataframe\">\n",
       "  <thead>\n",
       "    <tr style=\"text-align: right;\">\n",
       "      <th></th>\n",
       "      <th>order_id</th>\n",
       "      <th>customer_id</th>\n",
       "      <th>order_status</th>\n",
       "      <th>order_purchase_timestamp</th>\n",
       "      <th>order_approved_at</th>\n",
       "      <th>order_delivered_timestamp</th>\n",
       "      <th>order_estimated_delivery_date</th>\n",
       "      <th>order_item_id</th>\n",
       "      <th>product_id</th>\n",
       "      <th>seller_id</th>\n",
       "      <th>...</th>\n",
       "      <th>product_length_cm</th>\n",
       "      <th>product_height_cm</th>\n",
       "      <th>product_width_cm</th>\n",
       "      <th>payment_sequential</th>\n",
       "      <th>payment_type</th>\n",
       "      <th>payment_installments</th>\n",
       "      <th>payment_value</th>\n",
       "      <th>customer_zip_code_prefix</th>\n",
       "      <th>customer_city</th>\n",
       "      <th>customer_state</th>\n",
       "    </tr>\n",
       "  </thead>\n",
       "  <tbody>\n",
       "    <tr>\n",
       "      <th>0</th>\n",
       "      <td>e481f51cbdc54678b7cc49136f2d6af7</td>\n",
       "      <td>7c396fd4830fd04220f754e42b4e5bff</td>\n",
       "      <td>delivered</td>\n",
       "      <td>2017-10-02 10:56:33</td>\n",
       "      <td>2017-10-02 11:07:15</td>\n",
       "      <td>2017-10-10 21:25:13</td>\n",
       "      <td>2017-10-18</td>\n",
       "      <td>1</td>\n",
       "      <td>87285b34884572647811a353c7ac498a</td>\n",
       "      <td>3504c0cb71d7fa48d967e0e4c94d59d9</td>\n",
       "      <td>...</td>\n",
       "      <td>19.0</td>\n",
       "      <td>8.0</td>\n",
       "      <td>13.0</td>\n",
       "      <td>1</td>\n",
       "      <td>credit_card</td>\n",
       "      <td>1</td>\n",
       "      <td>18.12</td>\n",
       "      <td>3149</td>\n",
       "      <td>sao paulo</td>\n",
       "      <td>SP</td>\n",
       "    </tr>\n",
       "    <tr>\n",
       "      <th>1</th>\n",
       "      <td>e481f51cbdc54678b7cc49136f2d6af7</td>\n",
       "      <td>7c396fd4830fd04220f754e42b4e5bff</td>\n",
       "      <td>delivered</td>\n",
       "      <td>2017-10-02 10:56:33</td>\n",
       "      <td>2017-10-02 11:07:15</td>\n",
       "      <td>2017-10-10 21:25:13</td>\n",
       "      <td>2017-10-18</td>\n",
       "      <td>1</td>\n",
       "      <td>87285b34884572647811a353c7ac498a</td>\n",
       "      <td>3504c0cb71d7fa48d967e0e4c94d59d9</td>\n",
       "      <td>...</td>\n",
       "      <td>19.0</td>\n",
       "      <td>8.0</td>\n",
       "      <td>13.0</td>\n",
       "      <td>3</td>\n",
       "      <td>voucher</td>\n",
       "      <td>1</td>\n",
       "      <td>2.00</td>\n",
       "      <td>3149</td>\n",
       "      <td>sao paulo</td>\n",
       "      <td>SP</td>\n",
       "    </tr>\n",
       "    <tr>\n",
       "      <th>2</th>\n",
       "      <td>e481f51cbdc54678b7cc49136f2d6af7</td>\n",
       "      <td>7c396fd4830fd04220f754e42b4e5bff</td>\n",
       "      <td>delivered</td>\n",
       "      <td>2017-10-02 10:56:33</td>\n",
       "      <td>2017-10-02 11:07:15</td>\n",
       "      <td>2017-10-10 21:25:13</td>\n",
       "      <td>2017-10-18</td>\n",
       "      <td>1</td>\n",
       "      <td>87285b34884572647811a353c7ac498a</td>\n",
       "      <td>3504c0cb71d7fa48d967e0e4c94d59d9</td>\n",
       "      <td>...</td>\n",
       "      <td>19.0</td>\n",
       "      <td>8.0</td>\n",
       "      <td>13.0</td>\n",
       "      <td>2</td>\n",
       "      <td>voucher</td>\n",
       "      <td>1</td>\n",
       "      <td>18.59</td>\n",
       "      <td>3149</td>\n",
       "      <td>sao paulo</td>\n",
       "      <td>SP</td>\n",
       "    </tr>\n",
       "    <tr>\n",
       "      <th>3</th>\n",
       "      <td>69923a4e07ce446644394df37a710286</td>\n",
       "      <td>7c396fd4830fd04220f754e42b4e5bff</td>\n",
       "      <td>delivered</td>\n",
       "      <td>2017-09-04 11:26:38</td>\n",
       "      <td>2017-09-04 11:43:25</td>\n",
       "      <td>2017-09-05 19:20:20</td>\n",
       "      <td>2017-09-15</td>\n",
       "      <td>1</td>\n",
       "      <td>9abb00920aae319ef9eba674b7d2e6ff</td>\n",
       "      <td>1771297ac436903d1dd6b0e9279aa505</td>\n",
       "      <td>...</td>\n",
       "      <td>19.0</td>\n",
       "      <td>14.0</td>\n",
       "      <td>12.0</td>\n",
       "      <td>1</td>\n",
       "      <td>credit_card</td>\n",
       "      <td>1</td>\n",
       "      <td>44.11</td>\n",
       "      <td>3149</td>\n",
       "      <td>sao paulo</td>\n",
       "      <td>SP</td>\n",
       "    </tr>\n",
       "    <tr>\n",
       "      <th>4</th>\n",
       "      <td>128e10d95713541c87cd1a2e48201934</td>\n",
       "      <td>3a51803cc0d012c3b5dc8b7528cb05f7</td>\n",
       "      <td>delivered</td>\n",
       "      <td>2017-08-15 18:29:31</td>\n",
       "      <td>2017-08-15 20:05:16</td>\n",
       "      <td>2017-08-18 14:44:43</td>\n",
       "      <td>2017-08-28</td>\n",
       "      <td>1</td>\n",
       "      <td>87285b34884572647811a353c7ac498a</td>\n",
       "      <td>3504c0cb71d7fa48d967e0e4c94d59d9</td>\n",
       "      <td>...</td>\n",
       "      <td>19.0</td>\n",
       "      <td>8.0</td>\n",
       "      <td>13.0</td>\n",
       "      <td>1</td>\n",
       "      <td>credit_card</td>\n",
       "      <td>3</td>\n",
       "      <td>37.77</td>\n",
       "      <td>3366</td>\n",
       "      <td>sao paulo</td>\n",
       "      <td>SP</td>\n",
       "    </tr>\n",
       "  </tbody>\n",
       "</table>\n",
       "<p>5 rows × 24 columns</p>\n",
       "</div>"
      ],
      "text/plain": [
       "                           order_id                       customer_id  \\\n",
       "0  e481f51cbdc54678b7cc49136f2d6af7  7c396fd4830fd04220f754e42b4e5bff   \n",
       "1  e481f51cbdc54678b7cc49136f2d6af7  7c396fd4830fd04220f754e42b4e5bff   \n",
       "2  e481f51cbdc54678b7cc49136f2d6af7  7c396fd4830fd04220f754e42b4e5bff   \n",
       "3  69923a4e07ce446644394df37a710286  7c396fd4830fd04220f754e42b4e5bff   \n",
       "4  128e10d95713541c87cd1a2e48201934  3a51803cc0d012c3b5dc8b7528cb05f7   \n",
       "\n",
       "  order_status order_purchase_timestamp   order_approved_at  \\\n",
       "0    delivered      2017-10-02 10:56:33 2017-10-02 11:07:15   \n",
       "1    delivered      2017-10-02 10:56:33 2017-10-02 11:07:15   \n",
       "2    delivered      2017-10-02 10:56:33 2017-10-02 11:07:15   \n",
       "3    delivered      2017-09-04 11:26:38 2017-09-04 11:43:25   \n",
       "4    delivered      2017-08-15 18:29:31 2017-08-15 20:05:16   \n",
       "\n",
       "  order_delivered_timestamp order_estimated_delivery_date  order_item_id  \\\n",
       "0       2017-10-10 21:25:13                    2017-10-18              1   \n",
       "1       2017-10-10 21:25:13                    2017-10-18              1   \n",
       "2       2017-10-10 21:25:13                    2017-10-18              1   \n",
       "3       2017-09-05 19:20:20                    2017-09-15              1   \n",
       "4       2017-08-18 14:44:43                    2017-08-28              1   \n",
       "\n",
       "                         product_id                         seller_id  ...  \\\n",
       "0  87285b34884572647811a353c7ac498a  3504c0cb71d7fa48d967e0e4c94d59d9  ...   \n",
       "1  87285b34884572647811a353c7ac498a  3504c0cb71d7fa48d967e0e4c94d59d9  ...   \n",
       "2  87285b34884572647811a353c7ac498a  3504c0cb71d7fa48d967e0e4c94d59d9  ...   \n",
       "3  9abb00920aae319ef9eba674b7d2e6ff  1771297ac436903d1dd6b0e9279aa505  ...   \n",
       "4  87285b34884572647811a353c7ac498a  3504c0cb71d7fa48d967e0e4c94d59d9  ...   \n",
       "\n",
       "   product_length_cm  product_height_cm product_width_cm  payment_sequential  \\\n",
       "0               19.0                8.0             13.0                   1   \n",
       "1               19.0                8.0             13.0                   3   \n",
       "2               19.0                8.0             13.0                   2   \n",
       "3               19.0               14.0             12.0                   1   \n",
       "4               19.0                8.0             13.0                   1   \n",
       "\n",
       "   payment_type  payment_installments  payment_value  \\\n",
       "0   credit_card                     1          18.12   \n",
       "1       voucher                     1           2.00   \n",
       "2       voucher                     1          18.59   \n",
       "3   credit_card                     1          44.11   \n",
       "4   credit_card                     3          37.77   \n",
       "\n",
       "   customer_zip_code_prefix customer_city  customer_state  \n",
       "0                      3149     sao paulo              SP  \n",
       "1                      3149     sao paulo              SP  \n",
       "2                      3149     sao paulo              SP  \n",
       "3                      3149     sao paulo              SP  \n",
       "4                      3366     sao paulo              SP  \n",
       "\n",
       "[5 rows x 24 columns]"
      ]
     },
     "execution_count": 53,
     "metadata": {},
     "output_type": "execute_result"
    }
   ],
   "source": [
    "# The final 'orders_delivered' dataframe\n",
    "\n",
    "orders_delivered.head()"
   ]
  },
  {
   "cell_type": "code",
   "execution_count": 54,
   "id": "c1c1c52e",
   "metadata": {},
   "outputs": [
    {
     "data": {
      "text/plain": [
       "order_id                         0\n",
       "customer_id                      0\n",
       "order_status                     0\n",
       "order_purchase_timestamp         0\n",
       "order_approved_at                0\n",
       "order_delivered_timestamp        0\n",
       "order_estimated_delivery_date    0\n",
       "order_item_id                    0\n",
       "product_id                       0\n",
       "seller_id                        0\n",
       "price                            0\n",
       "shipping_charges                 0\n",
       "product_category_name            0\n",
       "product_weight_g                 0\n",
       "product_length_cm                0\n",
       "product_height_cm                0\n",
       "product_width_cm                 0\n",
       "payment_sequential               0\n",
       "payment_type                     0\n",
       "payment_installments             0\n",
       "payment_value                    0\n",
       "customer_zip_code_prefix         0\n",
       "customer_city                    0\n",
       "customer_state                   0\n",
       "dtype: int64"
      ]
     },
     "execution_count": 54,
     "metadata": {},
     "output_type": "execute_result"
    }
   ],
   "source": [
    "#Validating again if there are any NULLs, although we have taken care of all the NULLs seperately for all the sheets.\n",
    "\n",
    "orders_delivered.isnull().sum()"
   ]
  },
  {
   "cell_type": "code",
   "execution_count": 55,
   "id": "b70f0f6f",
   "metadata": {},
   "outputs": [
    {
     "data": {
      "image/png": "[encoded data removed]",
      "text/plain": [
       "<Figure size 1000x600 with 1 Axes>"
      ]
     },
     "metadata": {},
     "output_type": "display_data"
    }
   ],
   "source": [
    "#Checking for 'price' outliers\n",
    "\n",
    "plt.figure(figsize=(10,6))\n",
    "sns.boxplot(data=orders_delivered, y=orders_delivered['price'])\n",
    "plt.show()"
   ]
  },
  {
   "cell_type": "code",
   "execution_count": 56,
   "id": "caa04767",
   "metadata": {},
   "outputs": [
    {
     "data": {
      "text/html": [
       "<div>\n",
       "<style scoped>\n",
       "    .dataframe tbody tr th:only-of-type {\n",
       "        vertical-align: middle;\n",
       "    }\n",
       "\n",
       "    .dataframe tbody tr th {\n",
       "        vertical-align: top;\n",
       "    }\n",
       "\n",
       "    .dataframe thead th {\n",
       "        text-align: right;\n",
       "    }\n",
       "</style>\n",
       "<table border=\"1\" class=\"dataframe\">\n",
       "  <thead>\n",
       "    <tr style=\"text-align: right;\">\n",
       "      <th></th>\n",
       "      <th>order_id</th>\n",
       "      <th>customer_id</th>\n",
       "      <th>order_status</th>\n",
       "      <th>order_purchase_timestamp</th>\n",
       "      <th>order_approved_at</th>\n",
       "      <th>order_delivered_timestamp</th>\n",
       "      <th>order_estimated_delivery_date</th>\n",
       "      <th>order_item_id</th>\n",
       "      <th>product_id</th>\n",
       "      <th>seller_id</th>\n",
       "      <th>...</th>\n",
       "      <th>product_length_cm</th>\n",
       "      <th>product_height_cm</th>\n",
       "      <th>product_width_cm</th>\n",
       "      <th>payment_sequential</th>\n",
       "      <th>payment_type</th>\n",
       "      <th>payment_installments</th>\n",
       "      <th>payment_value</th>\n",
       "      <th>customer_zip_code_prefix</th>\n",
       "      <th>customer_city</th>\n",
       "      <th>customer_state</th>\n",
       "    </tr>\n",
       "  </thead>\n",
       "  <tbody>\n",
       "    <tr>\n",
       "      <th>37462</th>\n",
       "      <td>b239ca7cd485940b31882363b52e6674</td>\n",
       "      <td>ca27f3dac28fb1063faddd424c9d95fa</td>\n",
       "      <td>delivered</td>\n",
       "      <td>2018-07-29 08:39:48</td>\n",
       "      <td>2018-07-30 08:15:14</td>\n",
       "      <td>2018-07-31 23:03:28</td>\n",
       "      <td>2018-08-07</td>\n",
       "      <td>1</td>\n",
       "      <td>dd113cb02b2af9c8e5787e8f1f0722f6</td>\n",
       "      <td>821fb029fc6e495ca4f08a35d51e53a5</td>\n",
       "      <td>...</td>\n",
       "      <td>55.0</td>\n",
       "      <td>25.0</td>\n",
       "      <td>45.0</td>\n",
       "      <td>1</td>\n",
       "      <td>debit_card</td>\n",
       "      <td>1</td>\n",
       "      <td>4163.51</td>\n",
       "      <td>34018</td>\n",
       "      <td>nova lima</td>\n",
       "      <td>MG</td>\n",
       "    </tr>\n",
       "    <tr>\n",
       "      <th>37463</th>\n",
       "      <td>a53e05ecd2ed1f46a2b8e1f5828be7c6</td>\n",
       "      <td>bc5e25094a7d51b6aee35236572e64f4</td>\n",
       "      <td>delivered</td>\n",
       "      <td>2018-01-26 14:30:21</td>\n",
       "      <td>2018-01-27 14:35:51</td>\n",
       "      <td>2018-02-02 13:53:10</td>\n",
       "      <td>2018-02-15</td>\n",
       "      <td>1</td>\n",
       "      <td>dd113cb02b2af9c8e5787e8f1f0722f6</td>\n",
       "      <td>821fb029fc6e495ca4f08a35d51e53a5</td>\n",
       "      <td>...</td>\n",
       "      <td>55.0</td>\n",
       "      <td>25.0</td>\n",
       "      <td>45.0</td>\n",
       "      <td>1</td>\n",
       "      <td>credit_card</td>\n",
       "      <td>10</td>\n",
       "      <td>3826.80</td>\n",
       "      <td>35660</td>\n",
       "      <td>para de minas</td>\n",
       "      <td>MG</td>\n",
       "    </tr>\n",
       "    <tr>\n",
       "      <th>37655</th>\n",
       "      <td>3a4b013e014723cc38c9faa8ffdc6387</td>\n",
       "      <td>2c3b08cf3584d8c0a81d9618a73aa219</td>\n",
       "      <td>delivered</td>\n",
       "      <td>2018-04-09 11:32:37</td>\n",
       "      <td>2018-04-10 07:35:20</td>\n",
       "      <td>2018-04-13 02:06:43</td>\n",
       "      <td>2018-04-24</td>\n",
       "      <td>1</td>\n",
       "      <td>34f99d82cfc355d08d8db780d14aa002</td>\n",
       "      <td>a00824eb9093d40e589b940ec45c4eb0</td>\n",
       "      <td>...</td>\n",
       "      <td>39.0</td>\n",
       "      <td>95.0</td>\n",
       "      <td>42.0</td>\n",
       "      <td>1</td>\n",
       "      <td>credit_card</td>\n",
       "      <td>8</td>\n",
       "      <td>3526.46</td>\n",
       "      <td>19023</td>\n",
       "      <td>presidente prudente</td>\n",
       "      <td>SP</td>\n",
       "    </tr>\n",
       "    <tr>\n",
       "      <th>42087</th>\n",
       "      <td>f5136e38d1a14a4dbd87dff67da82701</td>\n",
       "      <td>ff4159b92c40ebe40454e3e6a7c35ed6</td>\n",
       "      <td>delivered</td>\n",
       "      <td>2017-05-24 18:14:34</td>\n",
       "      <td>2017-05-26 02:45:17</td>\n",
       "      <td>2017-06-05 17:09:48</td>\n",
       "      <td>2017-06-28</td>\n",
       "      <td>1</td>\n",
       "      <td>1bdf5e6731585cf01aa8169c7028d6ad</td>\n",
       "      <td>ee27a8f15b1dded4d213a468ba4eb391</td>\n",
       "      <td>...</td>\n",
       "      <td>47.0</td>\n",
       "      <td>25.0</td>\n",
       "      <td>25.0</td>\n",
       "      <td>1</td>\n",
       "      <td>wallet</td>\n",
       "      <td>1</td>\n",
       "      <td>6726.66</td>\n",
       "      <td>17506</td>\n",
       "      <td>marilia</td>\n",
       "      <td>SP</td>\n",
       "    </tr>\n",
       "    <tr>\n",
       "      <th>42677</th>\n",
       "      <td>1d54db601b417ccdfd3b7071955e6cc7</td>\n",
       "      <td>bbeb907759ef5fc169099af3c88d535d</td>\n",
       "      <td>delivered</td>\n",
       "      <td>2018-04-27 05:57:39</td>\n",
       "      <td>2018-04-28 10:29:50</td>\n",
       "      <td>2018-05-03 23:52:04</td>\n",
       "      <td>2018-05-15</td>\n",
       "      <td>1</td>\n",
       "      <td>6e729bd456c54469a9af4c8774f1eab7</td>\n",
       "      <td>039e6ad9dae79614493083e241147386</td>\n",
       "      <td>...</td>\n",
       "      <td>18.0</td>\n",
       "      <td>39.0</td>\n",
       "      <td>31.0</td>\n",
       "      <td>1</td>\n",
       "      <td>credit_card</td>\n",
       "      <td>5</td>\n",
       "      <td>3209.72</td>\n",
       "      <td>89113</td>\n",
       "      <td>gaspar</td>\n",
       "      <td>SC</td>\n",
       "    </tr>\n",
       "  </tbody>\n",
       "</table>\n",
       "<p>5 rows × 24 columns</p>\n",
       "</div>"
      ],
      "text/plain": [
       "                               order_id                       customer_id  \\\n",
       "37462  b239ca7cd485940b31882363b52e6674  ca27f3dac28fb1063faddd424c9d95fa   \n",
       "37463  a53e05ecd2ed1f46a2b8e1f5828be7c6  bc5e25094a7d51b6aee35236572e64f4   \n",
       "37655  3a4b013e014723cc38c9faa8ffdc6387  2c3b08cf3584d8c0a81d9618a73aa219   \n",
       "42087  f5136e38d1a14a4dbd87dff67da82701  ff4159b92c40ebe40454e3e6a7c35ed6   \n",
       "42677  1d54db601b417ccdfd3b7071955e6cc7  bbeb907759ef5fc169099af3c88d535d   \n",
       "\n",
       "      order_status order_purchase_timestamp   order_approved_at  \\\n",
       "37462    delivered      2018-07-29 08:39:48 2018-07-30 08:15:14   \n",
       "37463    delivered      2018-01-26 14:30:21 2018-01-27 14:35:51   \n",
       "37655    delivered      2018-04-09 11:32:37 2018-04-10 07:35:20   \n",
       "42087    delivered      2017-05-24 18:14:34 2017-05-26 02:45:17   \n",
       "42677    delivered      2018-04-27 05:57:39 2018-04-28 10:29:50   \n",
       "\n",
       "      order_delivered_timestamp order_estimated_delivery_date  order_item_id  \\\n",
       "37462       2018-07-31 23:03:28                    2018-08-07              1   \n",
       "37463       2018-02-02 13:53:10                    2018-02-15              1   \n",
       "37655       2018-04-13 02:06:43                    2018-04-24              1   \n",
       "42087       2017-06-05 17:09:48                    2017-06-28              1   \n",
       "42677       2018-05-03 23:52:04                    2018-05-15              1   \n",
       "\n",
       "                             product_id                         seller_id  \\\n",
       "37462  dd113cb02b2af9c8e5787e8f1f0722f6  821fb029fc6e495ca4f08a35d51e53a5   \n",
       "37463  dd113cb02b2af9c8e5787e8f1f0722f6  821fb029fc6e495ca4f08a35d51e53a5   \n",
       "37655  34f99d82cfc355d08d8db780d14aa002  a00824eb9093d40e589b940ec45c4eb0   \n",
       "42087  1bdf5e6731585cf01aa8169c7028d6ad  ee27a8f15b1dded4d213a468ba4eb391   \n",
       "42677  6e729bd456c54469a9af4c8774f1eab7  039e6ad9dae79614493083e241147386   \n",
       "\n",
       "       ...  product_length_cm  product_height_cm product_width_cm  \\\n",
       "37462  ...               55.0               25.0             45.0   \n",
       "37463  ...               55.0               25.0             45.0   \n",
       "37655  ...               39.0               95.0             42.0   \n",
       "42087  ...               47.0               25.0             25.0   \n",
       "42677  ...               18.0               39.0             31.0   \n",
       "\n",
       "       payment_sequential  payment_type  payment_installments  payment_value  \\\n",
       "37462                   1    debit_card                     1        4163.51   \n",
       "37463                   1   credit_card                    10        3826.80   \n",
       "37655                   1   credit_card                     8        3526.46   \n",
       "42087                   1        wallet                     1        6726.66   \n",
       "42677                   1   credit_card                     5        3209.72   \n",
       "\n",
       "       customer_zip_code_prefix        customer_city  customer_state  \n",
       "37462                     34018            nova lima              MG  \n",
       "37463                     35660        para de minas              MG  \n",
       "37655                     19023  presidente prudente              SP  \n",
       "42087                     17506              marilia              SP  \n",
       "42677                     89113               gaspar              SC  \n",
       "\n",
       "[5 rows x 24 columns]"
      ]
     },
     "execution_count": 56,
     "metadata": {},
     "output_type": "execute_result"
    }
   ],
   "source": [
    "#Assuming that anything above the price of 3000 is too expensive and shall be removed.\n",
    "#Therefore checking the records for further investigation \n",
    "\n",
    "orders_delivered[orders_delivered['price']>3000].head()"
   ]
  },
  {
   "cell_type": "code",
   "execution_count": 57,
   "id": "dd38aa13",
   "metadata": {},
   "outputs": [
    {
     "data": {
      "image/png": "[encoded data removed]",
      "text/plain": [
       "<Figure size 1500x500 with 1 Axes>"
      ]
     },
     "metadata": {},
     "output_type": "display_data"
    }
   ],
   "source": [
    "# Toys are usually not that costly, therefore the prices are outliers.\n",
    "# Checking the correct measure for imputation using skewness\n",
    "\n",
    "plt.figure(figsize=(15,5))\n",
    "sns.distplot(orders_delivered.price)\n",
    "plt.axvline(orders_delivered.price.mean(), color=\"yellow\")\n",
    "plt.axvline(orders_delivered.price.median(), color=\"red\")\n",
    "plt.show()\n"
   ]
  },
  {
   "cell_type": "code",
   "execution_count": 58,
   "id": "1c263c8d",
   "metadata": {},
   "outputs": [],
   "source": [
    "#Imputing the prices of Toys that are above 3000 with median\n",
    "\n",
    "orders_delivered.loc[((orders_delivered['price']>3000) & (orders_delivered['product_category_name']=='toys')), 'price']=orders_delivered['price'].median()"
   ]
  },
  {
   "cell_type": "code",
   "execution_count": 59,
   "id": "a0dc2b6d",
   "metadata": {},
   "outputs": [
    {
     "data": {
      "image/png": "[encoded data removed]",
      "text/plain": [
       "<Figure size 1000x600 with 1 Axes>"
      ]
     },
     "metadata": {},
     "output_type": "display_data"
    }
   ],
   "source": [
    "#Checkinh for 'shipping_charges' outliers\n",
    "\n",
    "plt.figure(figsize=(10,6))\n",
    "sns.boxplot(data=orders_delivered, y=orders_delivered['shipping_charges'])\n",
    "plt.show()"
   ]
  },
  {
   "cell_type": "code",
   "execution_count": 60,
   "id": "8868752f",
   "metadata": {},
   "outputs": [
    {
     "data": {
      "image/png": "[encoded data removed]",
      "text/plain": [
       "<Figure size 1500x400 with 1 Axes>"
      ]
     },
     "metadata": {},
     "output_type": "display_data"
    }
   ],
   "source": [
    "# Toys are usually not that costly, therefore the prices are outliers.\n",
    "# Checking the correct measure for imputation using skewness\n",
    "\n",
    "plt.figure(figsize=(15,4))\n",
    "sns.distplot(orders_delivered.price)\n",
    "plt.axvline(orders_delivered.shipping_charges.mean(), color=\"red\")\n",
    "plt.axvline(orders_delivered.shipping_charges.median(), color=\"green\")\n",
    "plt.show()"
   ]
  },
  {
   "cell_type": "code",
   "execution_count": 61,
   "id": "f806187d",
   "metadata": {},
   "outputs": [],
   "source": [
    "#Imputing the shipping_charges that are above 100 with median\n",
    "\n",
    "orders_delivered.loc[orders_delivered['shipping_charges']>100, 'shipping_charges'] = orders_delivered['shipping_charges'].median()"
   ]
  },
  {
   "cell_type": "markdown",
   "id": "1f38d794",
   "metadata": {},
   "source": [
    "## Market Basket Analysis using Association Rules and Apriori"
   ]
  },
  {
   "cell_type": "code",
   "execution_count": 62,
   "id": "694509c3",
   "metadata": {},
   "outputs": [
    {
     "name": "stdout",
     "output_type": "stream",
     "text": [
      "Requirement already satisfied: mlxtend in c:\\users\\leeth\\anaconda3\\lib\\site-packages (0.23.1)\n",
      "Requirement already satisfied: matplotlib>=3.0.0 in c:\\users\\leeth\\anaconda3\\lib\\site-packages (from mlxtend) (3.7.0)\n",
      "Requirement already satisfied: joblib>=0.13.2 in c:\\users\\leeth\\anaconda3\\lib\\site-packages (from mlxtend) (1.1.1)\n",
      "Requirement already satisfied: scipy>=1.2.1 in c:\\users\\leeth\\anaconda3\\lib\\site-packages (from mlxtend) (1.10.0)\n",
      "Requirement already satisfied: pandas>=0.24.2 in c:\\users\\leeth\\anaconda3\\lib\\site-packages (from mlxtend) (1.5.3)\n",
      "Requirement already satisfied: numpy>=1.16.2 in c:\\users\\leeth\\anaconda3\\lib\\site-packages (from mlxtend) (1.23.5)\n",
      "Requirement already satisfied: scikit-learn>=1.0.2 in c:\\users\\leeth\\anaconda3\\lib\\site-packages (from mlxtend) (1.2.1)\n",
      "Requirement already satisfied: pillow>=6.2.0 in c:\\users\\leeth\\anaconda3\\lib\\site-packages (from matplotlib>=3.0.0->mlxtend) (9.4.0)\n",
      "Requirement already satisfied: fonttools>=4.22.0 in c:\\users\\leeth\\anaconda3\\lib\\site-packages (from matplotlib>=3.0.0->mlxtend) (4.25.0)\n",
      "Requirement already satisfied: contourpy>=1.0.1 in c:\\users\\leeth\\anaconda3\\lib\\site-packages (from matplotlib>=3.0.0->mlxtend) (1.0.5)\n",
      "Requirement already satisfied: cycler>=0.10 in c:\\users\\leeth\\anaconda3\\lib\\site-packages (from matplotlib>=3.0.0->mlxtend) (0.11.0)\n",
      "Requirement already satisfied: packaging>=20.0 in c:\\users\\leeth\\anaconda3\\lib\\site-packages (from matplotlib>=3.0.0->mlxtend) (22.0)\n",
      "Requirement already satisfied: python-dateutil>=2.7 in c:\\users\\leeth\\anaconda3\\lib\\site-packages (from matplotlib>=3.0.0->mlxtend) (2.8.2)\n",
      "Requirement already satisfied: kiwisolver>=1.0.1 in c:\\users\\leeth\\anaconda3\\lib\\site-packages (from matplotlib>=3.0.0->mlxtend) (1.4.4)\n",
      "Requirement already satisfied: pyparsing>=2.3.1 in c:\\users\\leeth\\anaconda3\\lib\\site-packages (from matplotlib>=3.0.0->mlxtend) (3.0.9)\n",
      "Requirement already satisfied: pytz>=2020.1 in c:\\users\\leeth\\anaconda3\\lib\\site-packages (from pandas>=0.24.2->mlxtend) (2022.7)\n",
      "Requirement already satisfied: threadpoolctl>=2.0.0 in c:\\users\\leeth\\anaconda3\\lib\\site-packages (from scikit-learn>=1.0.2->mlxtend) (2.2.0)\n",
      "Requirement already satisfied: six>=1.5 in c:\\users\\leeth\\anaconda3\\lib\\site-packages (from python-dateutil>=2.7->matplotlib>=3.0.0->mlxtend) (1.16.0)\n"
     ]
    }
   ],
   "source": [
    "#Installing the package Machine learning Extension - mlxtend\n",
    "\n",
    "!pip install mlxtend"
   ]
  },
  {
   "cell_type": "code",
   "execution_count": 63,
   "id": "47b1ced4",
   "metadata": {
    "_uuid": "bae69fde5cd7de2c715f98244818b697d7f65f67",
    "execution": {
     "iopub.execute_input": "2021-02-16T11:15:34.222149Z",
     "iopub.status.busy": "2021-02-16T11:15:34.221447Z",
     "iopub.status.idle": "2021-02-16T11:15:35.524541Z",
     "shell.execute_reply": "2021-02-16T11:15:35.523993Z"
    },
    "papermill": {
     "duration": 1.351712,
     "end_time": "2021-02-16T11:15:35.524664",
     "exception": false,
     "start_time": "2021-02-16T11:15:34.172952",
     "status": "completed"
    },
    "tags": []
   },
   "outputs": [],
   "source": [
    "#Load apriori and association modules from mlxtend.frequent_patterns \n",
    "\n",
    "from mlxtend.frequent_patterns import apriori\n",
    "from mlxtend.frequent_patterns import association_rules"
   ]
  },
  {
   "cell_type": "code",
   "execution_count": 64,
   "id": "f7ec2ad0",
   "metadata": {},
   "outputs": [],
   "source": [
    "#Updating orders_delivered dataframe with only the required columns for analysis\n",
    "\n",
    "orders_delivered = orders_delivered[['order_id','product_category_name', 'order_item_id']]"
   ]
  },
  {
   "cell_type": "code",
   "execution_count": 65,
   "id": "496fe329",
   "metadata": {},
   "outputs": [
    {
     "data": {
      "text/plain": [
       "4841"
      ]
     },
     "execution_count": 65,
     "metadata": {},
     "output_type": "execute_result"
    }
   ],
   "source": [
    "#Checking the duplicates after updating\n",
    "\n",
    "orders_delivered.duplicated().sum()"
   ]
  },
  {
   "cell_type": "code",
   "execution_count": 66,
   "id": "b9079c5a",
   "metadata": {},
   "outputs": [],
   "source": [
    "#Dropping the duplicates keeping the first occurence\n",
    "\n",
    "orders_delivered.drop_duplicates(keep='first', inplace=True)"
   ]
  },
  {
   "cell_type": "code",
   "execution_count": 67,
   "id": "0b0d3796",
   "metadata": {},
   "outputs": [],
   "source": [
    "#Creating prd_combo dataframe using pandas pivot, this is required for basket analysis\n",
    "\n",
    "prd_combo = pd.pivot_table(data=orders_delivered,index='order_id',columns='product_category_name',\n",
    "                              values='order_item_id',fill_value=0)"
   ]
  },
  {
   "cell_type": "code",
   "execution_count": 68,
   "id": "133f7830",
   "metadata": {},
   "outputs": [
    {
     "data": {
      "text/html": [
       "<div>\n",
       "<style scoped>\n",
       "    .dataframe tbody tr th:only-of-type {\n",
       "        vertical-align: middle;\n",
       "    }\n",
       "\n",
       "    .dataframe tbody tr th {\n",
       "        vertical-align: top;\n",
       "    }\n",
       "\n",
       "    .dataframe thead th {\n",
       "        text-align: right;\n",
       "    }\n",
       "</style>\n",
       "<table border=\"1\" class=\"dataframe\">\n",
       "  <thead>\n",
       "    <tr style=\"text-align: right;\">\n",
       "      <th>product_category_name</th>\n",
       "      <th>agro_industry_and_commerce</th>\n",
       "      <th>air_conditioning</th>\n",
       "      <th>art</th>\n",
       "      <th>arts_and_craftmanship</th>\n",
       "      <th>audio</th>\n",
       "      <th>auto</th>\n",
       "      <th>baby</th>\n",
       "      <th>bed_bath_table</th>\n",
       "      <th>books_general_interest</th>\n",
       "      <th>books_imported</th>\n",
       "      <th>...</th>\n",
       "      <th>security_and_services</th>\n",
       "      <th>signaling_and_security</th>\n",
       "      <th>small_appliances</th>\n",
       "      <th>small_appliances_home_oven_and_coffee</th>\n",
       "      <th>sports_leisure</th>\n",
       "      <th>stationery</th>\n",
       "      <th>tablets_printing_image</th>\n",
       "      <th>telephony</th>\n",
       "      <th>toys</th>\n",
       "      <th>watches_gifts</th>\n",
       "    </tr>\n",
       "    <tr>\n",
       "      <th>order_id</th>\n",
       "      <th></th>\n",
       "      <th></th>\n",
       "      <th></th>\n",
       "      <th></th>\n",
       "      <th></th>\n",
       "      <th></th>\n",
       "      <th></th>\n",
       "      <th></th>\n",
       "      <th></th>\n",
       "      <th></th>\n",
       "      <th></th>\n",
       "      <th></th>\n",
       "      <th></th>\n",
       "      <th></th>\n",
       "      <th></th>\n",
       "      <th></th>\n",
       "      <th></th>\n",
       "      <th></th>\n",
       "      <th></th>\n",
       "      <th></th>\n",
       "      <th></th>\n",
       "    </tr>\n",
       "  </thead>\n",
       "  <tbody>\n",
       "    <tr>\n",
       "      <th>00010242fe8c5a6d1ba2dd792cb16214</th>\n",
       "      <td>0.0</td>\n",
       "      <td>0.0</td>\n",
       "      <td>0</td>\n",
       "      <td>0</td>\n",
       "      <td>0.0</td>\n",
       "      <td>0.0</td>\n",
       "      <td>0.0</td>\n",
       "      <td>0.0</td>\n",
       "      <td>0.0</td>\n",
       "      <td>0.0</td>\n",
       "      <td>...</td>\n",
       "      <td>0</td>\n",
       "      <td>0.0</td>\n",
       "      <td>0.0</td>\n",
       "      <td>0</td>\n",
       "      <td>0.0</td>\n",
       "      <td>0.0</td>\n",
       "      <td>0.0</td>\n",
       "      <td>0.0</td>\n",
       "      <td>1.0</td>\n",
       "      <td>0.0</td>\n",
       "    </tr>\n",
       "    <tr>\n",
       "      <th>00018f77f2f0320c557190d7a144bdd3</th>\n",
       "      <td>0.0</td>\n",
       "      <td>0.0</td>\n",
       "      <td>0</td>\n",
       "      <td>0</td>\n",
       "      <td>0.0</td>\n",
       "      <td>0.0</td>\n",
       "      <td>0.0</td>\n",
       "      <td>0.0</td>\n",
       "      <td>0.0</td>\n",
       "      <td>0.0</td>\n",
       "      <td>...</td>\n",
       "      <td>0</td>\n",
       "      <td>0.0</td>\n",
       "      <td>0.0</td>\n",
       "      <td>0</td>\n",
       "      <td>0.0</td>\n",
       "      <td>0.0</td>\n",
       "      <td>0.0</td>\n",
       "      <td>0.0</td>\n",
       "      <td>1.0</td>\n",
       "      <td>0.0</td>\n",
       "    </tr>\n",
       "    <tr>\n",
       "      <th>000229ec398224ef6ca0657da4fc703e</th>\n",
       "      <td>0.0</td>\n",
       "      <td>0.0</td>\n",
       "      <td>0</td>\n",
       "      <td>0</td>\n",
       "      <td>0.0</td>\n",
       "      <td>0.0</td>\n",
       "      <td>0.0</td>\n",
       "      <td>0.0</td>\n",
       "      <td>0.0</td>\n",
       "      <td>0.0</td>\n",
       "      <td>...</td>\n",
       "      <td>0</td>\n",
       "      <td>0.0</td>\n",
       "      <td>0.0</td>\n",
       "      <td>0</td>\n",
       "      <td>0.0</td>\n",
       "      <td>0.0</td>\n",
       "      <td>0.0</td>\n",
       "      <td>0.0</td>\n",
       "      <td>1.0</td>\n",
       "      <td>0.0</td>\n",
       "    </tr>\n",
       "    <tr>\n",
       "      <th>00024acbcdf0a6daa1e931b038114c75</th>\n",
       "      <td>0.0</td>\n",
       "      <td>0.0</td>\n",
       "      <td>0</td>\n",
       "      <td>0</td>\n",
       "      <td>0.0</td>\n",
       "      <td>0.0</td>\n",
       "      <td>0.0</td>\n",
       "      <td>0.0</td>\n",
       "      <td>0.0</td>\n",
       "      <td>0.0</td>\n",
       "      <td>...</td>\n",
       "      <td>0</td>\n",
       "      <td>0.0</td>\n",
       "      <td>0.0</td>\n",
       "      <td>0</td>\n",
       "      <td>0.0</td>\n",
       "      <td>0.0</td>\n",
       "      <td>0.0</td>\n",
       "      <td>0.0</td>\n",
       "      <td>1.0</td>\n",
       "      <td>0.0</td>\n",
       "    </tr>\n",
       "    <tr>\n",
       "      <th>00042b26cf59d7ce69dfabb4e55b4fd9</th>\n",
       "      <td>0.0</td>\n",
       "      <td>0.0</td>\n",
       "      <td>0</td>\n",
       "      <td>0</td>\n",
       "      <td>0.0</td>\n",
       "      <td>0.0</td>\n",
       "      <td>0.0</td>\n",
       "      <td>0.0</td>\n",
       "      <td>0.0</td>\n",
       "      <td>0.0</td>\n",
       "      <td>...</td>\n",
       "      <td>0</td>\n",
       "      <td>0.0</td>\n",
       "      <td>0.0</td>\n",
       "      <td>0</td>\n",
       "      <td>0.0</td>\n",
       "      <td>0.0</td>\n",
       "      <td>0.0</td>\n",
       "      <td>0.0</td>\n",
       "      <td>1.0</td>\n",
       "      <td>0.0</td>\n",
       "    </tr>\n",
       "  </tbody>\n",
       "</table>\n",
       "<p>5 rows × 70 columns</p>\n",
       "</div>"
      ],
      "text/plain": [
       "product_category_name             agro_industry_and_commerce  \\\n",
       "order_id                                                       \n",
       "00010242fe8c5a6d1ba2dd792cb16214                         0.0   \n",
       "00018f77f2f0320c557190d7a144bdd3                         0.0   \n",
       "000229ec398224ef6ca0657da4fc703e                         0.0   \n",
       "00024acbcdf0a6daa1e931b038114c75                         0.0   \n",
       "00042b26cf59d7ce69dfabb4e55b4fd9                         0.0   \n",
       "\n",
       "product_category_name             air_conditioning  art  \\\n",
       "order_id                                                  \n",
       "00010242fe8c5a6d1ba2dd792cb16214               0.0    0   \n",
       "00018f77f2f0320c557190d7a144bdd3               0.0    0   \n",
       "000229ec398224ef6ca0657da4fc703e               0.0    0   \n",
       "00024acbcdf0a6daa1e931b038114c75               0.0    0   \n",
       "00042b26cf59d7ce69dfabb4e55b4fd9               0.0    0   \n",
       "\n",
       "product_category_name             arts_and_craftmanship  audio  auto  baby  \\\n",
       "order_id                                                                     \n",
       "00010242fe8c5a6d1ba2dd792cb16214                      0    0.0   0.0   0.0   \n",
       "00018f77f2f0320c557190d7a144bdd3                      0    0.0   0.0   0.0   \n",
       "000229ec398224ef6ca0657da4fc703e                      0    0.0   0.0   0.0   \n",
       "00024acbcdf0a6daa1e931b038114c75                      0    0.0   0.0   0.0   \n",
       "00042b26cf59d7ce69dfabb4e55b4fd9                      0    0.0   0.0   0.0   \n",
       "\n",
       "product_category_name             bed_bath_table  books_general_interest  \\\n",
       "order_id                                                                   \n",
       "00010242fe8c5a6d1ba2dd792cb16214             0.0                     0.0   \n",
       "00018f77f2f0320c557190d7a144bdd3             0.0                     0.0   \n",
       "000229ec398224ef6ca0657da4fc703e             0.0                     0.0   \n",
       "00024acbcdf0a6daa1e931b038114c75             0.0                     0.0   \n",
       "00042b26cf59d7ce69dfabb4e55b4fd9             0.0                     0.0   \n",
       "\n",
       "product_category_name             books_imported  ...  security_and_services  \\\n",
       "order_id                                          ...                          \n",
       "00010242fe8c5a6d1ba2dd792cb16214             0.0  ...                      0   \n",
       "00018f77f2f0320c557190d7a144bdd3             0.0  ...                      0   \n",
       "000229ec398224ef6ca0657da4fc703e             0.0  ...                      0   \n",
       "00024acbcdf0a6daa1e931b038114c75             0.0  ...                      0   \n",
       "00042b26cf59d7ce69dfabb4e55b4fd9             0.0  ...                      0   \n",
       "\n",
       "product_category_name             signaling_and_security  small_appliances  \\\n",
       "order_id                                                                     \n",
       "00010242fe8c5a6d1ba2dd792cb16214                     0.0               0.0   \n",
       "00018f77f2f0320c557190d7a144bdd3                     0.0               0.0   \n",
       "000229ec398224ef6ca0657da4fc703e                     0.0               0.0   \n",
       "00024acbcdf0a6daa1e931b038114c75                     0.0               0.0   \n",
       "00042b26cf59d7ce69dfabb4e55b4fd9                     0.0               0.0   \n",
       "\n",
       "product_category_name             small_appliances_home_oven_and_coffee  \\\n",
       "order_id                                                                  \n",
       "00010242fe8c5a6d1ba2dd792cb16214                                      0   \n",
       "00018f77f2f0320c557190d7a144bdd3                                      0   \n",
       "000229ec398224ef6ca0657da4fc703e                                      0   \n",
       "00024acbcdf0a6daa1e931b038114c75                                      0   \n",
       "00042b26cf59d7ce69dfabb4e55b4fd9                                      0   \n",
       "\n",
       "product_category_name             sports_leisure  stationery  \\\n",
       "order_id                                                       \n",
       "00010242fe8c5a6d1ba2dd792cb16214             0.0         0.0   \n",
       "00018f77f2f0320c557190d7a144bdd3             0.0         0.0   \n",
       "000229ec398224ef6ca0657da4fc703e             0.0         0.0   \n",
       "00024acbcdf0a6daa1e931b038114c75             0.0         0.0   \n",
       "00042b26cf59d7ce69dfabb4e55b4fd9             0.0         0.0   \n",
       "\n",
       "product_category_name             tablets_printing_image  telephony  toys  \\\n",
       "order_id                                                                    \n",
       "00010242fe8c5a6d1ba2dd792cb16214                     0.0        0.0   1.0   \n",
       "00018f77f2f0320c557190d7a144bdd3                     0.0        0.0   1.0   \n",
       "000229ec398224ef6ca0657da4fc703e                     0.0        0.0   1.0   \n",
       "00024acbcdf0a6daa1e931b038114c75                     0.0        0.0   1.0   \n",
       "00042b26cf59d7ce69dfabb4e55b4fd9                     0.0        0.0   1.0   \n",
       "\n",
       "product_category_name             watches_gifts  \n",
       "order_id                                         \n",
       "00010242fe8c5a6d1ba2dd792cb16214            0.0  \n",
       "00018f77f2f0320c557190d7a144bdd3            0.0  \n",
       "000229ec398224ef6ca0657da4fc703e            0.0  \n",
       "00024acbcdf0a6daa1e931b038114c75            0.0  \n",
       "00042b26cf59d7ce69dfabb4e55b4fd9            0.0  \n",
       "\n",
       "[5 rows x 70 columns]"
      ]
     },
     "execution_count": 68,
     "metadata": {},
     "output_type": "execute_result"
    }
   ],
   "source": [
    "prd_combo.head()"
   ]
  },
  {
   "cell_type": "code",
   "execution_count": 69,
   "id": "3ab68d7d",
   "metadata": {
    "scrolled": true
   },
   "outputs": [],
   "source": [
    "#For basket analysis encoding the data to 1s and 0s \n",
    "def encdata(x):\n",
    "    if x<=0:\n",
    "        return 0\n",
    "    if x>=1:\n",
    "        return 1\n",
    "prd_combo_encode = prd_combo.applymap(encdata)"
   ]
  },
  {
   "cell_type": "code",
   "execution_count": 70,
   "id": "b75c2fec",
   "metadata": {},
   "outputs": [
    {
     "data": {
      "text/plain": [
       "(96477, 70)"
      ]
     },
     "execution_count": 70,
     "metadata": {},
     "output_type": "execute_result"
    }
   ],
   "source": [
    "prd_combo_encode.shape"
   ]
  },
  {
   "cell_type": "code",
   "execution_count": 71,
   "id": "76f5583b",
   "metadata": {},
   "outputs": [],
   "source": [
    "#As reuired by the assignment, dropping the Product_cataegories (columns) whose sum value (total_sale) \n",
    "#is less than equal to 5\n",
    "\n",
    "for column in prd_combo_encode.columns:\n",
    "    if (prd_combo_encode[column].sum(axis=0, skipna=True)<=5):\n",
    "        prd_combo_encode.drop(column, inplace=True, axis=1)\n",
    "\n"
   ]
  },
  {
   "cell_type": "code",
   "execution_count": 72,
   "id": "e09970a6",
   "metadata": {},
   "outputs": [
    {
     "data": {
      "text/plain": [
       "(96477, 61)"
      ]
     },
     "execution_count": 72,
     "metadata": {},
     "output_type": "execute_result"
    }
   ],
   "source": [
    "prd_combo_encode.shape"
   ]
  },
  {
   "cell_type": "code",
   "execution_count": 73,
   "id": "3881199a",
   "metadata": {
    "scrolled": true
   },
   "outputs": [
    {
     "data": {
      "text/html": [
       "<div>\n",
       "<style scoped>\n",
       "    .dataframe tbody tr th:only-of-type {\n",
       "        vertical-align: middle;\n",
       "    }\n",
       "\n",
       "    .dataframe tbody tr th {\n",
       "        vertical-align: top;\n",
       "    }\n",
       "\n",
       "    .dataframe thead th {\n",
       "        text-align: right;\n",
       "    }\n",
       "</style>\n",
       "<table border=\"1\" class=\"dataframe\">\n",
       "  <thead>\n",
       "    <tr style=\"text-align: right;\">\n",
       "      <th>product_category_name</th>\n",
       "      <th>agro_industry_and_commerce</th>\n",
       "      <th>air_conditioning</th>\n",
       "      <th>art</th>\n",
       "      <th>audio</th>\n",
       "      <th>auto</th>\n",
       "      <th>baby</th>\n",
       "      <th>bed_bath_table</th>\n",
       "      <th>books_general_interest</th>\n",
       "      <th>books_imported</th>\n",
       "      <th>books_technical</th>\n",
       "      <th>...</th>\n",
       "      <th>pet_shop</th>\n",
       "      <th>signaling_and_security</th>\n",
       "      <th>small_appliances</th>\n",
       "      <th>small_appliances_home_oven_and_coffee</th>\n",
       "      <th>sports_leisure</th>\n",
       "      <th>stationery</th>\n",
       "      <th>tablets_printing_image</th>\n",
       "      <th>telephony</th>\n",
       "      <th>toys</th>\n",
       "      <th>watches_gifts</th>\n",
       "    </tr>\n",
       "    <tr>\n",
       "      <th>order_id</th>\n",
       "      <th></th>\n",
       "      <th></th>\n",
       "      <th></th>\n",
       "      <th></th>\n",
       "      <th></th>\n",
       "      <th></th>\n",
       "      <th></th>\n",
       "      <th></th>\n",
       "      <th></th>\n",
       "      <th></th>\n",
       "      <th></th>\n",
       "      <th></th>\n",
       "      <th></th>\n",
       "      <th></th>\n",
       "      <th></th>\n",
       "      <th></th>\n",
       "      <th></th>\n",
       "      <th></th>\n",
       "      <th></th>\n",
       "      <th></th>\n",
       "      <th></th>\n",
       "    </tr>\n",
       "  </thead>\n",
       "  <tbody>\n",
       "    <tr>\n",
       "      <th>00337fe25a3780b3424d9ad7c5a4b35e</th>\n",
       "      <td>0</td>\n",
       "      <td>0</td>\n",
       "      <td>0</td>\n",
       "      <td>0</td>\n",
       "      <td>0</td>\n",
       "      <td>0</td>\n",
       "      <td>1</td>\n",
       "      <td>0</td>\n",
       "      <td>0</td>\n",
       "      <td>0</td>\n",
       "      <td>...</td>\n",
       "      <td>0</td>\n",
       "      <td>0</td>\n",
       "      <td>0</td>\n",
       "      <td>0</td>\n",
       "      <td>0</td>\n",
       "      <td>0</td>\n",
       "      <td>0</td>\n",
       "      <td>0</td>\n",
       "      <td>1</td>\n",
       "      <td>0</td>\n",
       "    </tr>\n",
       "    <tr>\n",
       "      <th>00946f674d880be1f188abc10ad7cf46</th>\n",
       "      <td>0</td>\n",
       "      <td>0</td>\n",
       "      <td>0</td>\n",
       "      <td>0</td>\n",
       "      <td>0</td>\n",
       "      <td>0</td>\n",
       "      <td>0</td>\n",
       "      <td>0</td>\n",
       "      <td>0</td>\n",
       "      <td>0</td>\n",
       "      <td>...</td>\n",
       "      <td>1</td>\n",
       "      <td>0</td>\n",
       "      <td>0</td>\n",
       "      <td>0</td>\n",
       "      <td>0</td>\n",
       "      <td>0</td>\n",
       "      <td>0</td>\n",
       "      <td>0</td>\n",
       "      <td>1</td>\n",
       "      <td>0</td>\n",
       "    </tr>\n",
       "    <tr>\n",
       "      <th>00bcee890eba57a9767c7b5ca12d3a1b</th>\n",
       "      <td>0</td>\n",
       "      <td>0</td>\n",
       "      <td>0</td>\n",
       "      <td>0</td>\n",
       "      <td>0</td>\n",
       "      <td>0</td>\n",
       "      <td>0</td>\n",
       "      <td>0</td>\n",
       "      <td>0</td>\n",
       "      <td>0</td>\n",
       "      <td>...</td>\n",
       "      <td>0</td>\n",
       "      <td>0</td>\n",
       "      <td>0</td>\n",
       "      <td>0</td>\n",
       "      <td>0</td>\n",
       "      <td>0</td>\n",
       "      <td>0</td>\n",
       "      <td>0</td>\n",
       "      <td>1</td>\n",
       "      <td>0</td>\n",
       "    </tr>\n",
       "    <tr>\n",
       "      <th>01144cadcf64b6427f0a6580a3033220</th>\n",
       "      <td>0</td>\n",
       "      <td>0</td>\n",
       "      <td>0</td>\n",
       "      <td>0</td>\n",
       "      <td>0</td>\n",
       "      <td>0</td>\n",
       "      <td>0</td>\n",
       "      <td>0</td>\n",
       "      <td>0</td>\n",
       "      <td>0</td>\n",
       "      <td>...</td>\n",
       "      <td>0</td>\n",
       "      <td>0</td>\n",
       "      <td>0</td>\n",
       "      <td>0</td>\n",
       "      <td>0</td>\n",
       "      <td>0</td>\n",
       "      <td>0</td>\n",
       "      <td>0</td>\n",
       "      <td>1</td>\n",
       "      <td>0</td>\n",
       "    </tr>\n",
       "    <tr>\n",
       "      <th>013a98b3a668bcef05b98898177f6923</th>\n",
       "      <td>0</td>\n",
       "      <td>0</td>\n",
       "      <td>0</td>\n",
       "      <td>0</td>\n",
       "      <td>0</td>\n",
       "      <td>0</td>\n",
       "      <td>1</td>\n",
       "      <td>0</td>\n",
       "      <td>0</td>\n",
       "      <td>0</td>\n",
       "      <td>...</td>\n",
       "      <td>0</td>\n",
       "      <td>0</td>\n",
       "      <td>0</td>\n",
       "      <td>0</td>\n",
       "      <td>0</td>\n",
       "      <td>0</td>\n",
       "      <td>0</td>\n",
       "      <td>0</td>\n",
       "      <td>1</td>\n",
       "      <td>0</td>\n",
       "    </tr>\n",
       "  </tbody>\n",
       "</table>\n",
       "<p>5 rows × 61 columns</p>\n",
       "</div>"
      ],
      "text/plain": [
       "product_category_name             agro_industry_and_commerce  \\\n",
       "order_id                                                       \n",
       "00337fe25a3780b3424d9ad7c5a4b35e                           0   \n",
       "00946f674d880be1f188abc10ad7cf46                           0   \n",
       "00bcee890eba57a9767c7b5ca12d3a1b                           0   \n",
       "01144cadcf64b6427f0a6580a3033220                           0   \n",
       "013a98b3a668bcef05b98898177f6923                           0   \n",
       "\n",
       "product_category_name             air_conditioning  art  audio  auto  baby  \\\n",
       "order_id                                                                     \n",
       "00337fe25a3780b3424d9ad7c5a4b35e                 0    0      0     0     0   \n",
       "00946f674d880be1f188abc10ad7cf46                 0    0      0     0     0   \n",
       "00bcee890eba57a9767c7b5ca12d3a1b                 0    0      0     0     0   \n",
       "01144cadcf64b6427f0a6580a3033220                 0    0      0     0     0   \n",
       "013a98b3a668bcef05b98898177f6923                 0    0      0     0     0   \n",
       "\n",
       "product_category_name             bed_bath_table  books_general_interest  \\\n",
       "order_id                                                                   \n",
       "00337fe25a3780b3424d9ad7c5a4b35e               1                       0   \n",
       "00946f674d880be1f188abc10ad7cf46               0                       0   \n",
       "00bcee890eba57a9767c7b5ca12d3a1b               0                       0   \n",
       "01144cadcf64b6427f0a6580a3033220               0                       0   \n",
       "013a98b3a668bcef05b98898177f6923               1                       0   \n",
       "\n",
       "product_category_name             books_imported  books_technical  ...  \\\n",
       "order_id                                                           ...   \n",
       "00337fe25a3780b3424d9ad7c5a4b35e               0                0  ...   \n",
       "00946f674d880be1f188abc10ad7cf46               0                0  ...   \n",
       "00bcee890eba57a9767c7b5ca12d3a1b               0                0  ...   \n",
       "01144cadcf64b6427f0a6580a3033220               0                0  ...   \n",
       "013a98b3a668bcef05b98898177f6923               0                0  ...   \n",
       "\n",
       "product_category_name             pet_shop  signaling_and_security  \\\n",
       "order_id                                                             \n",
       "00337fe25a3780b3424d9ad7c5a4b35e         0                       0   \n",
       "00946f674d880be1f188abc10ad7cf46         1                       0   \n",
       "00bcee890eba57a9767c7b5ca12d3a1b         0                       0   \n",
       "01144cadcf64b6427f0a6580a3033220         0                       0   \n",
       "013a98b3a668bcef05b98898177f6923         0                       0   \n",
       "\n",
       "product_category_name             small_appliances  \\\n",
       "order_id                                             \n",
       "00337fe25a3780b3424d9ad7c5a4b35e                 0   \n",
       "00946f674d880be1f188abc10ad7cf46                 0   \n",
       "00bcee890eba57a9767c7b5ca12d3a1b                 0   \n",
       "01144cadcf64b6427f0a6580a3033220                 0   \n",
       "013a98b3a668bcef05b98898177f6923                 0   \n",
       "\n",
       "product_category_name             small_appliances_home_oven_and_coffee  \\\n",
       "order_id                                                                  \n",
       "00337fe25a3780b3424d9ad7c5a4b35e                                      0   \n",
       "00946f674d880be1f188abc10ad7cf46                                      0   \n",
       "00bcee890eba57a9767c7b5ca12d3a1b                                      0   \n",
       "01144cadcf64b6427f0a6580a3033220                                      0   \n",
       "013a98b3a668bcef05b98898177f6923                                      0   \n",
       "\n",
       "product_category_name             sports_leisure  stationery  \\\n",
       "order_id                                                       \n",
       "00337fe25a3780b3424d9ad7c5a4b35e               0           0   \n",
       "00946f674d880be1f188abc10ad7cf46               0           0   \n",
       "00bcee890eba57a9767c7b5ca12d3a1b               0           0   \n",
       "01144cadcf64b6427f0a6580a3033220               0           0   \n",
       "013a98b3a668bcef05b98898177f6923               0           0   \n",
       "\n",
       "product_category_name             tablets_printing_image  telephony  toys  \\\n",
       "order_id                                                                    \n",
       "00337fe25a3780b3424d9ad7c5a4b35e                       0          0     1   \n",
       "00946f674d880be1f188abc10ad7cf46                       0          0     1   \n",
       "00bcee890eba57a9767c7b5ca12d3a1b                       0          0     1   \n",
       "01144cadcf64b6427f0a6580a3033220                       0          0     1   \n",
       "013a98b3a668bcef05b98898177f6923                       0          0     1   \n",
       "\n",
       "product_category_name             watches_gifts  \n",
       "order_id                                         \n",
       "00337fe25a3780b3424d9ad7c5a4b35e              0  \n",
       "00946f674d880be1f188abc10ad7cf46              0  \n",
       "00bcee890eba57a9767c7b5ca12d3a1b              0  \n",
       "01144cadcf64b6427f0a6580a3033220              0  \n",
       "013a98b3a668bcef05b98898177f6923              0  \n",
       "\n",
       "[5 rows x 61 columns]"
      ]
     },
     "execution_count": 73,
     "metadata": {},
     "output_type": "execute_result"
    }
   ],
   "source": [
    "#Selecting only those order_ids where at least two items were purchased to find product combinations.\n",
    "#This is reuired else the 'Toys' product_category will affect the whole analysis. \n",
    "#Because the Support value for 'Toys' is biased due to its too much presence as single item orders \n",
    "\n",
    "prd_combo_encode = prd_combo_encode[(prd_combo_encode>0).sum(axis=1)>=2]\n",
    "prd_combo_encode.head()"
   ]
  },
  {
   "cell_type": "markdown",
   "id": "e90d6d6e",
   "metadata": {
    "papermill": {
     "duration": 0.052343,
     "end_time": "2021-02-16T11:15:38.602485",
     "exception": false,
     "start_time": "2021-02-16T11:15:38.550142",
     "status": "completed"
    },
    "tags": []
   },
   "source": [
    "#### Generating frequent itemsets from a list of items\n",
    "\n",
    "First step in generation of association rules is to get all the frequent itemsets.Frequent itemsets are the ones which occur at least a minimum number of times in the transactions."
   ]
  },
  {
   "cell_type": "code",
   "execution_count": 74,
   "id": "0ffa9fc5",
   "metadata": {},
   "outputs": [
    {
     "name": "stderr",
     "output_type": "stream",
     "text": [
      "C:\\Users\\leeth\\anaconda3\\lib\\site-packages\\mlxtend\\frequent_patterns\\fpcommon.py:109: DeprecationWarning: DataFrames with non-bool types result in worse computationalperformance and their support might be discontinued in the future.Please use a DataFrame with bool type\n",
      "  warnings.warn(\n"
     ]
    },
    {
     "data": {
      "text/html": [
       "<div>\n",
       "<style scoped>\n",
       "    .dataframe tbody tr th:only-of-type {\n",
       "        vertical-align: middle;\n",
       "    }\n",
       "\n",
       "    .dataframe tbody tr th {\n",
       "        vertical-align: top;\n",
       "    }\n",
       "\n",
       "    .dataframe thead th {\n",
       "        text-align: right;\n",
       "    }\n",
       "</style>\n",
       "<table border=\"1\" class=\"dataframe\">\n",
       "  <thead>\n",
       "    <tr style=\"text-align: right;\">\n",
       "      <th></th>\n",
       "      <th>support</th>\n",
       "      <th>itemsets</th>\n",
       "    </tr>\n",
       "  </thead>\n",
       "  <tbody>\n",
       "    <tr>\n",
       "      <th>0</th>\n",
       "      <td>0.031201</td>\n",
       "      <td>(auto)</td>\n",
       "    </tr>\n",
       "    <tr>\n",
       "      <th>1</th>\n",
       "      <td>0.230889</td>\n",
       "      <td>(bed_bath_table)</td>\n",
       "    </tr>\n",
       "    <tr>\n",
       "      <th>2</th>\n",
       "      <td>0.084243</td>\n",
       "      <td>(computers_accessories)</td>\n",
       "    </tr>\n",
       "    <tr>\n",
       "      <th>3</th>\n",
       "      <td>0.032761</td>\n",
       "      <td>(fashion_bags_accessories)</td>\n",
       "    </tr>\n",
       "    <tr>\n",
       "      <th>4</th>\n",
       "      <td>0.127145</td>\n",
       "      <td>(furniture_decor)</td>\n",
       "    </tr>\n",
       "    <tr>\n",
       "      <th>5</th>\n",
       "      <td>0.042122</td>\n",
       "      <td>(garden_tools)</td>\n",
       "    </tr>\n",
       "    <tr>\n",
       "      <th>6</th>\n",
       "      <td>0.066303</td>\n",
       "      <td>(health_beauty)</td>\n",
       "    </tr>\n",
       "    <tr>\n",
       "      <th>7</th>\n",
       "      <td>0.053822</td>\n",
       "      <td>(housewares)</td>\n",
       "    </tr>\n",
       "    <tr>\n",
       "      <th>8</th>\n",
       "      <td>0.055382</td>\n",
       "      <td>(sports_leisure)</td>\n",
       "    </tr>\n",
       "    <tr>\n",
       "      <th>9</th>\n",
       "      <td>0.971139</td>\n",
       "      <td>(toys)</td>\n",
       "    </tr>\n",
       "    <tr>\n",
       "      <th>10</th>\n",
       "      <td>0.058502</td>\n",
       "      <td>(watches_gifts)</td>\n",
       "    </tr>\n",
       "    <tr>\n",
       "      <th>11</th>\n",
       "      <td>0.030421</td>\n",
       "      <td>(toys, auto)</td>\n",
       "    </tr>\n",
       "    <tr>\n",
       "      <th>12</th>\n",
       "      <td>0.226989</td>\n",
       "      <td>(bed_bath_table, toys)</td>\n",
       "    </tr>\n",
       "    <tr>\n",
       "      <th>13</th>\n",
       "      <td>0.080343</td>\n",
       "      <td>(toys, computers_accessories)</td>\n",
       "    </tr>\n",
       "    <tr>\n",
       "      <th>14</th>\n",
       "      <td>0.031981</td>\n",
       "      <td>(fashion_bags_accessories, toys)</td>\n",
       "    </tr>\n",
       "    <tr>\n",
       "      <th>15</th>\n",
       "      <td>0.119345</td>\n",
       "      <td>(toys, furniture_decor)</td>\n",
       "    </tr>\n",
       "    <tr>\n",
       "      <th>16</th>\n",
       "      <td>0.035101</td>\n",
       "      <td>(garden_tools, toys)</td>\n",
       "    </tr>\n",
       "    <tr>\n",
       "      <th>17</th>\n",
       "      <td>0.063183</td>\n",
       "      <td>(toys, health_beauty)</td>\n",
       "    </tr>\n",
       "    <tr>\n",
       "      <th>18</th>\n",
       "      <td>0.049142</td>\n",
       "      <td>(housewares, toys)</td>\n",
       "    </tr>\n",
       "    <tr>\n",
       "      <th>19</th>\n",
       "      <td>0.048362</td>\n",
       "      <td>(toys, sports_leisure)</td>\n",
       "    </tr>\n",
       "    <tr>\n",
       "      <th>20</th>\n",
       "      <td>0.056942</td>\n",
       "      <td>(watches_gifts, toys)</td>\n",
       "    </tr>\n",
       "  </tbody>\n",
       "</table>\n",
       "</div>"
      ],
      "text/plain": [
       "     support                          itemsets\n",
       "0   0.031201                            (auto)\n",
       "1   0.230889                  (bed_bath_table)\n",
       "2   0.084243           (computers_accessories)\n",
       "3   0.032761        (fashion_bags_accessories)\n",
       "4   0.127145                 (furniture_decor)\n",
       "5   0.042122                    (garden_tools)\n",
       "6   0.066303                   (health_beauty)\n",
       "7   0.053822                      (housewares)\n",
       "8   0.055382                  (sports_leisure)\n",
       "9   0.971139                            (toys)\n",
       "10  0.058502                   (watches_gifts)\n",
       "11  0.030421                      (toys, auto)\n",
       "12  0.226989            (bed_bath_table, toys)\n",
       "13  0.080343     (toys, computers_accessories)\n",
       "14  0.031981  (fashion_bags_accessories, toys)\n",
       "15  0.119345           (toys, furniture_decor)\n",
       "16  0.035101              (garden_tools, toys)\n",
       "17  0.063183             (toys, health_beauty)\n",
       "18  0.049142                (housewares, toys)\n",
       "19  0.048362            (toys, sports_leisure)\n",
       "20  0.056942             (watches_gifts, toys)"
      ]
     },
     "execution_count": 74,
     "metadata": {},
     "output_type": "execute_result"
    }
   ],
   "source": [
    "'''Call apriori function and passing minimum support here we are passing 3%, which means at least 3% in total number \n",
    "   of transaction the item should be present.'''\n",
    "#Support - This measure gives an idea of how frequent `ItemSet` is in all the transactions.\n",
    "\n",
    "frequent_items = apriori(prd_combo_encode, min_support=0.03, use_colnames=True)\n",
    "frequent_items"
   ]
  },
  {
   "cell_type": "markdown",
   "id": "b66b8b32",
   "metadata": {
    "papermill": {
     "duration": 0.053127,
     "end_time": "2021-02-16T11:15:38.841481",
     "exception": false,
     "start_time": "2021-02-16T11:15:38.788354",
     "status": "completed"
    },
    "tags": []
   },
   "source": [
    "#### Generating all possible rules from the frequent itemsets.\n",
    "\n",
    "After the frequent itemsets are generated, identifying rules such as Confidence and Lift\n",
    "\n"
   ]
  },
  {
   "cell_type": "code",
   "execution_count": 75,
   "id": "a5d7d36c",
   "metadata": {},
   "outputs": [
    {
     "data": {
      "text/html": [
       "<div>\n",
       "<style scoped>\n",
       "    .dataframe tbody tr th:only-of-type {\n",
       "        vertical-align: middle;\n",
       "    }\n",
       "\n",
       "    .dataframe tbody tr th {\n",
       "        vertical-align: top;\n",
       "    }\n",
       "\n",
       "    .dataframe thead th {\n",
       "        text-align: right;\n",
       "    }\n",
       "</style>\n",
       "<table border=\"1\" class=\"dataframe\">\n",
       "  <thead>\n",
       "    <tr style=\"text-align: right;\">\n",
       "      <th></th>\n",
       "      <th>antecedents</th>\n",
       "      <th>consequents</th>\n",
       "      <th>antecedent support</th>\n",
       "      <th>consequent support</th>\n",
       "      <th>support</th>\n",
       "      <th>confidence</th>\n",
       "      <th>lift</th>\n",
       "      <th>leverage</th>\n",
       "      <th>conviction</th>\n",
       "      <th>zhangs_metric</th>\n",
       "    </tr>\n",
       "  </thead>\n",
       "  <tbody>\n",
       "    <tr>\n",
       "      <th>0</th>\n",
       "      <td>(auto)</td>\n",
       "      <td>(toys)</td>\n",
       "      <td>0.031201</td>\n",
       "      <td>0.971139</td>\n",
       "      <td>0.030421</td>\n",
       "      <td>0.975000</td>\n",
       "      <td>1.003976</td>\n",
       "      <td>0.000120</td>\n",
       "      <td>1.154446</td>\n",
       "      <td>0.004088</td>\n",
       "    </tr>\n",
       "    <tr>\n",
       "      <th>1</th>\n",
       "      <td>(bed_bath_table)</td>\n",
       "      <td>(toys)</td>\n",
       "      <td>0.230889</td>\n",
       "      <td>0.971139</td>\n",
       "      <td>0.226989</td>\n",
       "      <td>0.983108</td>\n",
       "      <td>1.012325</td>\n",
       "      <td>0.002764</td>\n",
       "      <td>1.708580</td>\n",
       "      <td>0.015830</td>\n",
       "    </tr>\n",
       "    <tr>\n",
       "      <th>2</th>\n",
       "      <td>(toys)</td>\n",
       "      <td>(bed_bath_table)</td>\n",
       "      <td>0.971139</td>\n",
       "      <td>0.230889</td>\n",
       "      <td>0.226989</td>\n",
       "      <td>0.233735</td>\n",
       "      <td>1.012325</td>\n",
       "      <td>0.002764</td>\n",
       "      <td>1.003714</td>\n",
       "      <td>0.421845</td>\n",
       "    </tr>\n",
       "    <tr>\n",
       "      <th>3</th>\n",
       "      <td>(computers_accessories)</td>\n",
       "      <td>(toys)</td>\n",
       "      <td>0.084243</td>\n",
       "      <td>0.971139</td>\n",
       "      <td>0.080343</td>\n",
       "      <td>0.953704</td>\n",
       "      <td>0.982047</td>\n",
       "      <td>-0.001469</td>\n",
       "      <td>0.623401</td>\n",
       "      <td>-0.019573</td>\n",
       "    </tr>\n",
       "    <tr>\n",
       "      <th>4</th>\n",
       "      <td>(fashion_bags_accessories)</td>\n",
       "      <td>(toys)</td>\n",
       "      <td>0.032761</td>\n",
       "      <td>0.971139</td>\n",
       "      <td>0.031981</td>\n",
       "      <td>0.976190</td>\n",
       "      <td>1.005202</td>\n",
       "      <td>0.000165</td>\n",
       "      <td>1.212168</td>\n",
       "      <td>0.005350</td>\n",
       "    </tr>\n",
       "    <tr>\n",
       "      <th>5</th>\n",
       "      <td>(toys)</td>\n",
       "      <td>(furniture_decor)</td>\n",
       "      <td>0.971139</td>\n",
       "      <td>0.127145</td>\n",
       "      <td>0.119345</td>\n",
       "      <td>0.122892</td>\n",
       "      <td>0.966546</td>\n",
       "      <td>-0.004131</td>\n",
       "      <td>0.995151</td>\n",
       "      <td>-0.545301</td>\n",
       "    </tr>\n",
       "    <tr>\n",
       "      <th>6</th>\n",
       "      <td>(furniture_decor)</td>\n",
       "      <td>(toys)</td>\n",
       "      <td>0.127145</td>\n",
       "      <td>0.971139</td>\n",
       "      <td>0.119345</td>\n",
       "      <td>0.938650</td>\n",
       "      <td>0.966546</td>\n",
       "      <td>-0.004131</td>\n",
       "      <td>0.470437</td>\n",
       "      <td>-0.038141</td>\n",
       "    </tr>\n",
       "    <tr>\n",
       "      <th>7</th>\n",
       "      <td>(garden_tools)</td>\n",
       "      <td>(toys)</td>\n",
       "      <td>0.042122</td>\n",
       "      <td>0.971139</td>\n",
       "      <td>0.035101</td>\n",
       "      <td>0.833333</td>\n",
       "      <td>0.858099</td>\n",
       "      <td>-0.005805</td>\n",
       "      <td>0.173167</td>\n",
       "      <td>-0.147222</td>\n",
       "    </tr>\n",
       "    <tr>\n",
       "      <th>8</th>\n",
       "      <td>(health_beauty)</td>\n",
       "      <td>(toys)</td>\n",
       "      <td>0.066303</td>\n",
       "      <td>0.971139</td>\n",
       "      <td>0.063183</td>\n",
       "      <td>0.952941</td>\n",
       "      <td>0.981262</td>\n",
       "      <td>-0.001207</td>\n",
       "      <td>0.613300</td>\n",
       "      <td>-0.020042</td>\n",
       "    </tr>\n",
       "    <tr>\n",
       "      <th>9</th>\n",
       "      <td>(housewares)</td>\n",
       "      <td>(toys)</td>\n",
       "      <td>0.053822</td>\n",
       "      <td>0.971139</td>\n",
       "      <td>0.049142</td>\n",
       "      <td>0.913043</td>\n",
       "      <td>0.940178</td>\n",
       "      <td>-0.003127</td>\n",
       "      <td>0.331903</td>\n",
       "      <td>-0.063010</td>\n",
       "    </tr>\n",
       "    <tr>\n",
       "      <th>10</th>\n",
       "      <td>(sports_leisure)</td>\n",
       "      <td>(toys)</td>\n",
       "      <td>0.055382</td>\n",
       "      <td>0.971139</td>\n",
       "      <td>0.048362</td>\n",
       "      <td>0.873239</td>\n",
       "      <td>0.899191</td>\n",
       "      <td>-0.005422</td>\n",
       "      <td>0.227682</td>\n",
       "      <td>-0.106092</td>\n",
       "    </tr>\n",
       "    <tr>\n",
       "      <th>11</th>\n",
       "      <td>(watches_gifts)</td>\n",
       "      <td>(toys)</td>\n",
       "      <td>0.058502</td>\n",
       "      <td>0.971139</td>\n",
       "      <td>0.056942</td>\n",
       "      <td>0.973333</td>\n",
       "      <td>1.002260</td>\n",
       "      <td>0.000128</td>\n",
       "      <td>1.082293</td>\n",
       "      <td>0.002395</td>\n",
       "    </tr>\n",
       "  </tbody>\n",
       "</table>\n",
       "</div>"
      ],
      "text/plain": [
       "                   antecedents        consequents  antecedent support  \\\n",
       "0                       (auto)             (toys)            0.031201   \n",
       "1             (bed_bath_table)             (toys)            0.230889   \n",
       "2                       (toys)   (bed_bath_table)            0.971139   \n",
       "3      (computers_accessories)             (toys)            0.084243   \n",
       "4   (fashion_bags_accessories)             (toys)            0.032761   \n",
       "5                       (toys)  (furniture_decor)            0.971139   \n",
       "6            (furniture_decor)             (toys)            0.127145   \n",
       "7               (garden_tools)             (toys)            0.042122   \n",
       "8              (health_beauty)             (toys)            0.066303   \n",
       "9                 (housewares)             (toys)            0.053822   \n",
       "10            (sports_leisure)             (toys)            0.055382   \n",
       "11             (watches_gifts)             (toys)            0.058502   \n",
       "\n",
       "    consequent support   support  confidence      lift  leverage  conviction  \\\n",
       "0             0.971139  0.030421    0.975000  1.003976  0.000120    1.154446   \n",
       "1             0.971139  0.226989    0.983108  1.012325  0.002764    1.708580   \n",
       "2             0.230889  0.226989    0.233735  1.012325  0.002764    1.003714   \n",
       "3             0.971139  0.080343    0.953704  0.982047 -0.001469    0.623401   \n",
       "4             0.971139  0.031981    0.976190  1.005202  0.000165    1.212168   \n",
       "5             0.127145  0.119345    0.122892  0.966546 -0.004131    0.995151   \n",
       "6             0.971139  0.119345    0.938650  0.966546 -0.004131    0.470437   \n",
       "7             0.971139  0.035101    0.833333  0.858099 -0.005805    0.173167   \n",
       "8             0.971139  0.063183    0.952941  0.981262 -0.001207    0.613300   \n",
       "9             0.971139  0.049142    0.913043  0.940178 -0.003127    0.331903   \n",
       "10            0.971139  0.048362    0.873239  0.899191 -0.005422    0.227682   \n",
       "11            0.971139  0.056942    0.973333  1.002260  0.000128    1.082293   \n",
       "\n",
       "    zhangs_metric  \n",
       "0        0.004088  \n",
       "1        0.015830  \n",
       "2        0.421845  \n",
       "3       -0.019573  \n",
       "4        0.005350  \n",
       "5       -0.545301  \n",
       "6       -0.038141  \n",
       "7       -0.147222  \n",
       "8       -0.020042  \n",
       "9       -0.063010  \n",
       "10      -0.106092  \n",
       "11       0.002395  "
      ]
     },
     "execution_count": 75,
     "metadata": {},
     "output_type": "execute_result"
    }
   ],
   "source": [
    "#We would apply association rules on frequent itemset to find product combinations. \n",
    "#Confidence - This measure defines the likeliness of occurrence of consequent on the cart given that the cart \n",
    "#already has the antecedents.\n",
    "\n",
    "rules_conf = association_rules(frequent_items, metric=\"confidence\", min_threshold=0.1)\n",
    "rules_conf\n"
   ]
  },
  {
   "cell_type": "code",
   "execution_count": 76,
   "id": "f6ec8f24",
   "metadata": {
    "_uuid": "0eb5af08f401c56026c61812b1c7b3a736065ce8",
    "execution": {
     "iopub.execute_input": "2021-02-16T11:15:38.968946Z",
     "iopub.status.busy": "2021-02-16T11:15:38.954101Z",
     "iopub.status.idle": "2021-02-16T11:15:38.972557Z",
     "shell.execute_reply": "2021-02-16T11:15:38.973080Z"
    },
    "papermill": {
     "duration": 0.078693,
     "end_time": "2021-02-16T11:15:38.973272",
     "exception": false,
     "start_time": "2021-02-16T11:15:38.894579",
     "status": "completed"
    },
    "tags": []
   },
   "outputs": [
    {
     "data": {
      "text/html": [
       "<div>\n",
       "<style scoped>\n",
       "    .dataframe tbody tr th:only-of-type {\n",
       "        vertical-align: middle;\n",
       "    }\n",
       "\n",
       "    .dataframe tbody tr th {\n",
       "        vertical-align: top;\n",
       "    }\n",
       "\n",
       "    .dataframe thead th {\n",
       "        text-align: right;\n",
       "    }\n",
       "</style>\n",
       "<table border=\"1\" class=\"dataframe\">\n",
       "  <thead>\n",
       "    <tr style=\"text-align: right;\">\n",
       "      <th></th>\n",
       "      <th>antecedents</th>\n",
       "      <th>consequents</th>\n",
       "      <th>antecedent support</th>\n",
       "      <th>consequent support</th>\n",
       "      <th>support</th>\n",
       "      <th>confidence</th>\n",
       "      <th>lift</th>\n",
       "      <th>leverage</th>\n",
       "      <th>conviction</th>\n",
       "      <th>zhangs_metric</th>\n",
       "    </tr>\n",
       "  </thead>\n",
       "  <tbody>\n",
       "    <tr>\n",
       "      <th>0</th>\n",
       "      <td>(auto)</td>\n",
       "      <td>(toys)</td>\n",
       "      <td>0.031201</td>\n",
       "      <td>0.971139</td>\n",
       "      <td>0.030421</td>\n",
       "      <td>0.975000</td>\n",
       "      <td>1.003976</td>\n",
       "      <td>0.000120</td>\n",
       "      <td>1.154446</td>\n",
       "      <td>0.004088</td>\n",
       "    </tr>\n",
       "    <tr>\n",
       "      <th>1</th>\n",
       "      <td>(bed_bath_table)</td>\n",
       "      <td>(toys)</td>\n",
       "      <td>0.230889</td>\n",
       "      <td>0.971139</td>\n",
       "      <td>0.226989</td>\n",
       "      <td>0.983108</td>\n",
       "      <td>1.012325</td>\n",
       "      <td>0.002764</td>\n",
       "      <td>1.708580</td>\n",
       "      <td>0.015830</td>\n",
       "    </tr>\n",
       "    <tr>\n",
       "      <th>2</th>\n",
       "      <td>(toys)</td>\n",
       "      <td>(bed_bath_table)</td>\n",
       "      <td>0.971139</td>\n",
       "      <td>0.230889</td>\n",
       "      <td>0.226989</td>\n",
       "      <td>0.233735</td>\n",
       "      <td>1.012325</td>\n",
       "      <td>0.002764</td>\n",
       "      <td>1.003714</td>\n",
       "      <td>0.421845</td>\n",
       "    </tr>\n",
       "    <tr>\n",
       "      <th>4</th>\n",
       "      <td>(fashion_bags_accessories)</td>\n",
       "      <td>(toys)</td>\n",
       "      <td>0.032761</td>\n",
       "      <td>0.971139</td>\n",
       "      <td>0.031981</td>\n",
       "      <td>0.976190</td>\n",
       "      <td>1.005202</td>\n",
       "      <td>0.000165</td>\n",
       "      <td>1.212168</td>\n",
       "      <td>0.005350</td>\n",
       "    </tr>\n",
       "    <tr>\n",
       "      <th>11</th>\n",
       "      <td>(watches_gifts)</td>\n",
       "      <td>(toys)</td>\n",
       "      <td>0.058502</td>\n",
       "      <td>0.971139</td>\n",
       "      <td>0.056942</td>\n",
       "      <td>0.973333</td>\n",
       "      <td>1.002260</td>\n",
       "      <td>0.000128</td>\n",
       "      <td>1.082293</td>\n",
       "      <td>0.002395</td>\n",
       "    </tr>\n",
       "  </tbody>\n",
       "</table>\n",
       "</div>"
      ],
      "text/plain": [
       "                   antecedents       consequents  antecedent support  \\\n",
       "0                       (auto)            (toys)            0.031201   \n",
       "1             (bed_bath_table)            (toys)            0.230889   \n",
       "2                       (toys)  (bed_bath_table)            0.971139   \n",
       "4   (fashion_bags_accessories)            (toys)            0.032761   \n",
       "11             (watches_gifts)            (toys)            0.058502   \n",
       "\n",
       "    consequent support   support  confidence      lift  leverage  conviction  \\\n",
       "0             0.971139  0.030421    0.975000  1.003976  0.000120    1.154446   \n",
       "1             0.971139  0.226989    0.983108  1.012325  0.002764    1.708580   \n",
       "2             0.230889  0.226989    0.233735  1.012325  0.002764    1.003714   \n",
       "4             0.971139  0.031981    0.976190  1.005202  0.000165    1.212168   \n",
       "11            0.971139  0.056942    0.973333  1.002260  0.000128    1.082293   \n",
       "\n",
       "    zhangs_metric  \n",
       "0        0.004088  \n",
       "1        0.015830  \n",
       "2        0.421845  \n",
       "4        0.005350  \n",
       "11       0.002395  "
      ]
     },
     "execution_count": 76,
     "metadata": {},
     "output_type": "execute_result"
    }
   ],
   "source": [
    "#Lift - This measure defines the likeliness of occurrence of consequent on the cart given that the cart already \n",
    "#has the antecedent, but controlling the popularity of consequent.\n",
    "#Here we are setting based on lift and keeping minimum lift as >1.\n",
    "\n",
    "rules_lift=rules_conf[(rules_conf['lift'] > 1)]\n",
    "rules_lift"
   ]
  },
  {
   "cell_type": "markdown",
   "id": "1be5751a",
   "metadata": {},
   "source": [
    "#### As required by the assignment, cleaned datasets are needed, therefore Exporting cleaned dataset to an excel and other Market Basket metrics data to create dashboard using Tableau."
   ]
  },
  {
   "cell_type": "code",
   "execution_count": 77,
   "id": "ecf46533",
   "metadata": {},
   "outputs": [],
   "source": [
    "#Extracting the clean datasheets to be uploaded\n",
    "with pd.ExcelWriter(\"Downloads\\\\Clean_Retail_dataset.xlsx\") as excel_sheets:\n",
    "    #Extracting the clean datasheets\n",
    "    orders.to_excel(excel_sheets, sheet_name=\"orders\", index=False)\n",
    "    order_items.to_excel(excel_sheets, sheet_name=\"order_items\", index=False)\n",
    "    products.to_excel(excel_sheets, sheet_name=\"products\", index=False)\n",
    "    customers.to_excel(excel_sheets, sheet_name=\"customers\", index=False)\n",
    "    payments.to_excel(excel_sheets, sheet_name=\"payments\", index=False)\n",
    "    \n",
    "#Extracting the additional markest basket metrics data to be visualized\n",
    "#Taking care of the frozenset before exporting\n",
    "frequent_items[\"itemsets\"] = frequent_items[\"itemsets\"].apply(lambda x: ', '.join(list(x))).astype(\"unicode\")\n",
    "rules_conf[\"antecedents\"] = rules_conf[\"antecedents\"].apply(lambda x: ', '.join(list(x))).astype(\"unicode\")\n",
    "rules_conf[\"consequents\"] = rules_conf[\"consequents\"].apply(lambda x: ', '.join(list(x))).astype(\"unicode\")\n",
    "rules_lift[\"antecedents\"] = rules_lift[\"antecedents\"].apply(lambda x: ', '.join(list(x))).astype(\"unicode\")\n",
    "rules_lift[\"consequents\"] = rules_lift[\"consequents\"].apply(lambda x: ', '.join(list(x))).astype(\"unicode\") \n",
    "\n",
    "with pd.ExcelWriter(\"Downloads\\\\Apriori_Market_basket.xlsx\") as excel_sheets:    \n",
    "    frequent_items.to_excel(excel_sheets, sheet_name=\"support\", index=False)\n",
    "    rules_conf.to_excel(excel_sheets, sheet_name=\"confidence\", index=False)\n",
    "    rules_lift.to_excel(excel_sheets, sheet_name=\"lift\", index=False)"
   ]
  },
  {
   "cell_type": "markdown",
   "id": "dbe6fd09",
   "metadata": {},
   "source": [
    "### => For further analysis and visualization of this dataset, please check the Tableau file."
   ]
  },
  {
   "cell_type": "markdown",
   "id": "9703c8cd",
   "metadata": {},
   "source": [
    "---"
   ]
  }
 ],
 "metadata": {
  "kernelspec": {
   "display_name": "Python 3 (ipykernel)",
   "language": "python",
   "name": "python3"
  },
  "language_info": {
   "codemirror_mode": {
    "name": "ipython",
    "version": 3
   },
   "file_extension": ".py",
   "mimetype": "text/x-python",
   "name": "python",
   "nbconvert_exporter": "python",
   "pygments_lexer": "ipython3",
   "version": "3.10.9"
  }
 },
 "nbformat": 4,
 "nbformat_minor": 5
}
